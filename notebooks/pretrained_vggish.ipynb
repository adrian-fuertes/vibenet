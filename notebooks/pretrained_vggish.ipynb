{
 "cells": [
  {
   "cell_type": "code",
   "execution_count": 1,
   "id": "827b44bd",
   "metadata": {},
   "outputs": [
    {
     "name": "stdout",
     "output_type": "stream",
     "text": [
      "/home/jaeheonshim/music-vibes\n"
     ]
    }
   ],
   "source": [
    "%cd /home/jaeheonshim/music-vibes"
   ]
  },
  {
   "cell_type": "code",
   "execution_count": null,
   "id": "118f98c5",
   "metadata": {},
   "outputs": [],
   "source": [
    "import torch\n",
    "import numpy as np\n",
    "import pandas as pd\n",
    "from torch import nn\n",
    "from torch.optim.lr_scheduler import CosineAnnealingLR\n",
    "import torch.nn.functional as F\n",
    "from torch.utils.data import random_split, DataLoader, Subset\n",
    "import librosa\n",
    "from vibenet.dataset import FMAVGGishDataset\n",
    "from vibenet.models import VGGishMLP\n",
    "from tqdm import tqdm\n",
    "from torchvggish import vggish_input"
   ]
  },
  {
   "cell_type": "code",
   "execution_count": 3,
   "id": "eeeb0ff0",
   "metadata": {},
   "outputs": [],
   "source": [
    "labels = ['acousticness', 'danceability', 'energy', 'instrumentalness', 'liveness', 'speechiness', 'valence']"
   ]
  },
  {
   "cell_type": "code",
   "execution_count": 4,
   "id": "3880cf2f",
   "metadata": {},
   "outputs": [
    {
     "name": "stdout",
     "output_type": "stream",
     "text": [
      "[[[-2.7525146  -2.683021   -2.6432276  ... -3.9684596  -3.9523442\n",
      "   -3.869654  ]\n",
      "  [ 0.2586684   0.8037823   1.1073251  ... -2.2905943  -1.5651563\n",
      "   -1.6188581 ]\n",
      "  [ 0.42302436  1.05617     0.926886   ... -0.8017502  -1.0229014\n",
      "   -1.076192  ]\n",
      "  ...\n",
      "  [ 0.88455707  0.4266815   1.2014482  ... -0.1787137  -0.5918389\n",
      "    0.19124033]\n",
      "  [ 1.2265248   1.0417923   0.40203607 ... -0.55309474 -0.64335\n",
      "   -1.0096501 ]\n",
      "  [ 1.2111201   1.3818171   2.2253103  ... -0.9067962  -1.1063846\n",
      "   -0.70985943]]\n",
      "\n",
      " [[ 0.8623978   1.2762761   2.1428616  ... -0.6347559  -0.6723031\n",
      "   -0.95313996]\n",
      "  [ 1.1082301   1.233897    1.2746985  ... -0.9564062  -0.79365534\n",
      "   -0.35816047]\n",
      "  [ 1.0627131   1.342058    2.4580252  ... -0.79503554 -0.6214866\n",
      "   -0.40497547]\n",
      "  ...\n",
      "  [ 2.5603573   2.0551615   1.9706583  ...  0.7395899  -0.07511103\n",
      "   -0.7212197 ]\n",
      "  [ 2.4735575   1.516179   -0.05098555 ...  0.9755231   0.33867064\n",
      "    0.08468862]\n",
      "  [ 0.9329136  -0.07456745  0.80708444 ...  1.183292    1.3899543\n",
      "    1.3542749 ]]\n",
      "\n",
      " [[-0.40751722 -0.47020105  0.5816903  ...  1.186062    0.8957803\n",
      "    1.1254385 ]\n",
      "  [ 0.59237427 -0.27024195 -0.97700316 ...  0.5972961   0.6271457\n",
      "    1.219849  ]\n",
      "  [ 0.54891235  0.2065943  -0.95112836 ...  0.32406613  0.42960826\n",
      "    0.7733264 ]\n",
      "  ...\n",
      "  [ 0.29327708  1.1849719   1.1522044  ... -0.27877063 -0.46489802\n",
      "   -0.21315122]\n",
      "  [ 0.4676084   0.61403704  0.3300415  ... -1.4991322  -1.3174832\n",
      "   -1.2360152 ]\n",
      "  [-0.13444877  0.39819127  0.33644742 ... -1.3700559  -1.464355\n",
      "   -1.1269633 ]]\n",
      "\n",
      " ...\n",
      "\n",
      " [[ 0.00628555 -0.4643147  -1.8202606  ... -1.2150337  -1.1538266\n",
      "   -1.1935854 ]\n",
      "  [-0.13982853 -0.75043166 -0.5733712  ... -0.9282689  -1.3376145\n",
      "   -1.2580582 ]\n",
      "  [-0.807896   -0.8743657   0.01046427 ... -1.3377982  -1.327655\n",
      "   -1.8725637 ]\n",
      "  ...\n",
      "  [-1.0066819   0.9858514   1.7343256  ...  0.61460435  0.6641271\n",
      "    0.1289243 ]\n",
      "  [ 0.23098549  1.285973    1.5644436  ...  1.0510966   0.88932645\n",
      "    0.21671131]\n",
      "  [-0.44329238  0.80312467  1.6735069  ...  1.1478792   0.8627884\n",
      "    0.20631571]]\n",
      "\n",
      " [[ 0.31275097  1.4501792   1.7656084  ...  1.1721618   1.0402656\n",
      "    0.36222735]\n",
      "  [-0.30017117  1.0258313   1.5535387  ...  1.3396672   1.1958607\n",
      "    0.40263858]\n",
      "  [ 0.54404014  1.0790561   1.0613811  ...  1.3389081   1.0748051\n",
      "    0.57781136]\n",
      "  ...\n",
      "  [ 1.3559365   1.207023    1.5959005  ...  1.4903512   1.9493381\n",
      "    2.0588481 ]\n",
      "  [ 2.0175712   1.9673247   1.5198209  ...  1.286965    1.5786418\n",
      "    1.3727453 ]\n",
      "  [ 2.2971733   1.5996037   0.58067995 ...  1.0255307   1.2082953\n",
      "    1.0814402 ]]\n",
      "\n",
      " [[ 0.88374245  0.98291343  0.71495783 ...  1.0861197   1.2062747\n",
      "    1.1048523 ]\n",
      "  [ 1.1029227   1.2156957   1.3168296  ...  0.9320238   1.0195965\n",
      "    1.0900742 ]\n",
      "  [ 1.5259686   1.0533844   0.5490872  ...  1.3530864   1.1234763\n",
      "    0.82370687]\n",
      "  ...\n",
      "  [-4.6051702  -4.6051702  -4.6051702  ... -4.6051702  -4.6051702\n",
      "   -4.6051702 ]\n",
      "  [-4.6051702  -4.6051702  -4.6051702  ... -4.6051702  -4.6051702\n",
      "   -4.6051702 ]\n",
      "  [-4.6051702  -4.6051702  -4.6051702  ... -4.6051702  -4.6051702\n",
      "   -4.6051702 ]]]\n",
      "13122\n"
     ]
    }
   ],
   "source": [
    "dataset = FMAVGGishDataset('data/preprocessed/vggish')\n",
    "print(dataset[0][0])\n",
    "# dataset = Subset(dataset, list(range(50)))\n",
    "\n",
    "N = len(dataset)\n",
    "print(N)\n",
    "train_size = int(N * 0.8)\n",
    "train_ds, test_ds = random_split(dataset, [train_size, N - train_size], generator=torch.Generator().manual_seed(42))\n",
    "train_dl = DataLoader(train_ds, batch_size=64, shuffle=True)\n",
    "test_dl = DataLoader(test_ds, batch_size=64, shuffle=False)"
   ]
  },
  {
   "cell_type": "code",
   "execution_count": null,
   "id": "8883301c",
   "metadata": {},
   "outputs": [],
   "source": [
    "device = 'cuda'\n",
    "\n",
    "model = VGGishMLP()\n",
    "model = model.to(device)\n",
    "\n",
    "NUM_EPOCHS = 100\n",
    "\n",
    "optimizer = torch.optim.Adam(model.parameters(), lr=1e-3)\n",
    "scheduler = CosineAnnealingLR(optimizer, T_max=NUM_EPOCHS, eta_min=1e-6)"
   ]
  },
  {
   "cell_type": "code",
   "execution_count": null,
   "id": "ee7096d3",
   "metadata": {},
   "outputs": [
    {
     "name": "stdout",
     "output_type": "stream",
     "text": [
      "Epoch 1:\n"
     ]
    },
    {
     "name": "stderr",
     "output_type": "stream",
     "text": [
      "Training: 100%|██████████| 165/165 [00:11<00:00, 14.38it/s, loss=0.1529, lr=0.0009977832013192385]\n",
      "Validation: 100%|██████████| 42/42 [00:04<00:00, 10.35it/s, loss=0.1456]\n"
     ]
    },
    {
     "name": "stdout",
     "output_type": "stream",
     "text": [
      "Validation loss: 0.14564063648382822\n",
      "MAE per label:\n",
      "\tacousticness        0.2308\n",
      "\tdanceability        0.1007\n",
      "\tenergy              0.1258\n",
      "\tinstrumentalness    0.2165\n",
      "\tliveness            0.0947\n",
      "\tspeechiness         0.0532\n",
      "\tvalence             0.1978\n",
      "Saved new best model\n",
      "Epoch 2:\n"
     ]
    },
    {
     "name": "stderr",
     "output_type": "stream",
     "text": [
      "Training: 100%|██████████| 165/165 [00:11<00:00, 14.39it/s, loss=0.1482, lr=0.0009960612933065818]\n",
      "Validation: 100%|██████████| 42/42 [00:04<00:00, 10.17it/s, loss=0.1456]\n"
     ]
    },
    {
     "name": "stdout",
     "output_type": "stream",
     "text": [
      "Validation loss: 0.14562499523162842\n",
      "MAE per label:\n",
      "\tacousticness        0.2261\n",
      "\tdanceability        0.1065\n",
      "\tenergy              0.1249\n",
      "\tinstrumentalness    0.2151\n",
      "\tliveness            0.0966\n",
      "\tspeechiness         0.0516\n",
      "\tvalence             0.1986\n",
      "Saved new best model\n",
      "Epoch 3:\n"
     ]
    },
    {
     "name": "stderr",
     "output_type": "stream",
     "text": [
      "Training: 100%|██████████| 165/165 [00:11<00:00, 14.51it/s, loss=0.1473, lr=0.0009938503261272714]\n",
      "Validation: 100%|██████████| 42/42 [00:04<00:00, 10.07it/s, loss=0.1493]\n"
     ]
    },
    {
     "name": "stdout",
     "output_type": "stream",
     "text": [
      "Validation loss: 0.14930678513788043\n",
      "MAE per label:\n",
      "\tacousticness        0.2517\n",
      "\tdanceability        0.1035\n",
      "\tenergy              0.1265\n",
      "\tinstrumentalness    0.2162\n",
      "\tliveness            0.1013\n",
      "\tspeechiness         0.0529\n",
      "\tvalence             0.1930\n",
      "Epoch 4:\n"
     ]
    },
    {
     "name": "stderr",
     "output_type": "stream",
     "text": [
      "Training: 100%|██████████| 165/165 [00:11<00:00, 14.73it/s, loss=0.1459, lr=0.00099115248173898]\n",
      "Validation: 100%|██████████| 42/42 [00:04<00:00, 10.10it/s, loss=0.1425]\n"
     ]
    },
    {
     "name": "stdout",
     "output_type": "stream",
     "text": [
      "Validation loss: 0.1424621462467171\n",
      "MAE per label:\n",
      "\tacousticness        0.2196\n",
      "\tdanceability        0.0989\n",
      "\tenergy              0.1241\n",
      "\tinstrumentalness    0.2111\n",
      "\tliveness            0.1001\n",
      "\tspeechiness         0.0522\n",
      "\tvalence             0.1912\n",
      "Saved new best model\n",
      "Epoch 5:\n"
     ]
    },
    {
     "name": "stderr",
     "output_type": "stream",
     "text": [
      "Training: 100%|██████████| 165/165 [00:11<00:00, 14.50it/s, loss=0.1443, lr=0.0009879704225884043]\n",
      "Validation: 100%|██████████| 42/42 [00:04<00:00, 10.08it/s, loss=0.1418]\n"
     ]
    },
    {
     "name": "stdout",
     "output_type": "stream",
     "text": [
      "Validation loss: 0.14179008081555367\n",
      "MAE per label:\n",
      "\tacousticness        0.2153\n",
      "\tdanceability        0.0994\n",
      "\tenergy              0.1249\n",
      "\tinstrumentalness    0.2180\n",
      "\tliveness            0.0954\n",
      "\tspeechiness         0.0504\n",
      "\tvalence             0.1891\n",
      "Saved new best model\n",
      "Epoch 6:\n"
     ]
    },
    {
     "name": "stderr",
     "output_type": "stream",
     "text": [
      "Training: 100%|██████████| 165/165 [00:11<00:00, 14.54it/s, loss=0.1432, lr=0.0009843072889837512]\n",
      "Validation: 100%|██████████| 42/42 [00:04<00:00, 10.07it/s, loss=0.1417]\n"
     ]
    },
    {
     "name": "stdout",
     "output_type": "stream",
     "text": [
      "Validation loss: 0.14167736151388713\n",
      "MAE per label:\n",
      "\tacousticness        0.2185\n",
      "\tdanceability        0.1064\n",
      "\tenergy              0.1242\n",
      "\tinstrumentalness    0.2111\n",
      "\tliveness            0.0931\n",
      "\tspeechiness         0.0492\n",
      "\tvalence             0.1893\n",
      "Saved new best model\n",
      "Epoch 7:\n"
     ]
    },
    {
     "name": "stderr",
     "output_type": "stream",
     "text": [
      "Training: 100%|██████████| 165/165 [00:11<00:00, 14.83it/s, loss=0.1426, lr=0.000980166695995633]\n",
      "Validation: 100%|██████████| 42/42 [00:04<00:00, 10.09it/s, loss=0.1414]\n"
     ]
    },
    {
     "name": "stdout",
     "output_type": "stream",
     "text": [
      "Validation loss: 0.1413938914026533\n",
      "MAE per label:\n",
      "\tacousticness        0.2237\n",
      "\tdanceability        0.0973\n",
      "\tenergy              0.1301\n",
      "\tinstrumentalness    0.2095\n",
      "\tliveness            0.0936\n",
      "\tspeechiness         0.0488\n",
      "\tvalence             0.1867\n",
      "Saved new best model\n",
      "Epoch 8:\n"
     ]
    },
    {
     "name": "stderr",
     "output_type": "stream",
     "text": [
      "Training: 100%|██████████| 165/165 [00:11<00:00, 14.44it/s, loss=0.1434, lr=0.0009755527298894294]\n",
      "Validation: 100%|██████████| 42/42 [00:04<00:00, 10.13it/s, loss=0.1396]\n"
     ]
    },
    {
     "name": "stdout",
     "output_type": "stream",
     "text": [
      "Validation loss: 0.13959051313854398\n",
      "MAE per label:\n",
      "\tacousticness        0.2124\n",
      "\tdanceability        0.1008\n",
      "\tenergy              0.1218\n",
      "\tinstrumentalness    0.2082\n",
      "\tliveness            0.0953\n",
      "\tspeechiness         0.0505\n",
      "\tvalence             0.1881\n",
      "Saved new best model\n",
      "Epoch 9:\n"
     ]
    },
    {
     "name": "stderr",
     "output_type": "stream",
     "text": [
      "Training: 100%|██████████| 165/165 [00:11<00:00, 14.98it/s, loss=0.1412, lr=0.0009704699440926358]\n",
      "Validation: 100%|██████████| 42/42 [00:04<00:00, 10.39it/s, loss=0.1396]\n"
     ]
    },
    {
     "name": "stdout",
     "output_type": "stream",
     "text": [
      "Validation loss: 0.13955203355068252\n",
      "MAE per label:\n",
      "\tacousticness        0.2190\n",
      "\tdanceability        0.0981\n",
      "\tenergy              0.1248\n",
      "\tinstrumentalness    0.2070\n",
      "\tliveness            0.0932\n",
      "\tspeechiness         0.0487\n",
      "\tvalence             0.1861\n",
      "Saved new best model\n",
      "Epoch 10:\n"
     ]
    },
    {
     "name": "stderr",
     "output_type": "stream",
     "text": [
      "Training: 100%|██████████| 165/165 [00:11<00:00, 14.82it/s, loss=0.1403, lr=0.0009649233547011817]\n",
      "Validation: 100%|██████████| 42/42 [00:04<00:00, 10.14it/s, loss=0.1379]\n"
     ]
    },
    {
     "name": "stdout",
     "output_type": "stream",
     "text": [
      "Validation loss: 0.1378889608950842\n",
      "MAE per label:\n",
      "\tacousticness        0.2091\n",
      "\tdanceability        0.0972\n",
      "\tenergy              0.1208\n",
      "\tinstrumentalness    0.2071\n",
      "\tliveness            0.0940\n",
      "\tspeechiness         0.0490\n",
      "\tvalence             0.1880\n",
      "Saved new best model\n",
      "Epoch 11:\n"
     ]
    },
    {
     "name": "stderr",
     "output_type": "stream",
     "text": [
      "Training: 100%|██████████| 165/165 [00:11<00:00, 14.49it/s, loss=0.1401, lr=0.0009589184355291487]\n",
      "Validation: 100%|██████████| 42/42 [00:04<00:00, 10.14it/s, loss=0.1387]\n"
     ]
    },
    {
     "name": "stdout",
     "output_type": "stream",
     "text": [
      "Validation loss: 0.13868351475823493\n",
      "MAE per label:\n",
      "\tacousticness        0.2107\n",
      "\tdanceability        0.0993\n",
      "\tenergy              0.1228\n",
      "\tinstrumentalness    0.2077\n",
      "\tliveness            0.0945\n",
      "\tspeechiness         0.0495\n",
      "\tvalence             0.1862\n",
      "Epoch 12:\n"
     ]
    },
    {
     "name": "stderr",
     "output_type": "stream",
     "text": [
      "Training: 100%|██████████| 165/165 [00:11<00:00, 14.45it/s, loss=0.1401, lr=0.000952461112706777]\n",
      "Validation: 100%|██████████| 42/42 [00:04<00:00, 10.10it/s, loss=0.1395]\n"
     ]
    },
    {
     "name": "stdout",
     "output_type": "stream",
     "text": [
      "Validation loss: 0.1395109079423405\n",
      "MAE per label:\n",
      "\tacousticness        0.2077\n",
      "\tdanceability        0.1000\n",
      "\tenergy              0.1303\n",
      "\tinstrumentalness    0.2092\n",
      "\tliveness            0.0933\n",
      "\tspeechiness         0.0494\n",
      "\tvalence             0.1868\n",
      "Epoch 13:\n"
     ]
    },
    {
     "name": "stderr",
     "output_type": "stream",
     "text": [
      "Training: 100%|██████████| 165/165 [00:11<00:00, 14.37it/s, loss=0.1408, lr=0.00094555775883209]\n",
      "Validation: 100%|██████████| 42/42 [00:04<00:00,  9.93it/s, loss=0.1434]\n"
     ]
    },
    {
     "name": "stdout",
     "output_type": "stream",
     "text": [
      "Validation loss: 0.143352849142892\n",
      "MAE per label:\n",
      "\tacousticness        0.2211\n",
      "\tdanceability        0.0985\n",
      "\tenergy              0.1362\n",
      "\tinstrumentalness    0.2064\n",
      "\tliveness            0.0940\n",
      "\tspeechiness         0.0495\n",
      "\tvalence             0.1978\n",
      "Epoch 14:\n"
     ]
    },
    {
     "name": "stderr",
     "output_type": "stream",
     "text": [
      "Training: 100%|██████████| 165/165 [00:11<00:00, 14.31it/s, loss=0.1397, lr=0.0009382151866819101]\n",
      "Validation: 100%|██████████| 42/42 [00:04<00:00,  9.98it/s, loss=0.1372]\n"
     ]
    },
    {
     "name": "stdout",
     "output_type": "stream",
     "text": [
      "Validation loss: 0.1372495935786338\n",
      "MAE per label:\n",
      "\tacousticness        0.2104\n",
      "\tdanceability        0.0991\n",
      "\tenergy              0.1212\n",
      "\tinstrumentalness    0.2054\n",
      "\tliveness            0.0926\n",
      "\tspeechiness         0.0465\n",
      "\tvalence             0.1856\n",
      "Saved new best model\n",
      "Epoch 15:\n"
     ]
    },
    {
     "name": "stderr",
     "output_type": "stream",
     "text": [
      "Training: 100%|██████████| 165/165 [00:11<00:00, 14.38it/s, loss=0.1400, lr=0.0009304406424884702]\n",
      "Validation: 100%|██████████| 42/42 [00:04<00:00, 10.12it/s, loss=0.1389]\n"
     ]
    },
    {
     "name": "stdout",
     "output_type": "stream",
     "text": [
      "Validation loss: 0.13888053223490715\n",
      "MAE per label:\n",
      "\tacousticness        0.2162\n",
      "\tdanceability        0.0964\n",
      "\tenergy              0.1320\n",
      "\tinstrumentalness    0.2055\n",
      "\tliveness            0.0921\n",
      "\tspeechiness         0.0468\n",
      "\tvalence             0.1833\n",
      "Epoch 16:\n"
     ]
    },
    {
     "name": "stderr",
     "output_type": "stream",
     "text": [
      "Training: 100%|██████████| 165/165 [00:11<00:00, 14.56it/s, loss=0.1388, lr=0.000922241798788257]\n",
      "Validation: 100%|██████████| 42/42 [00:04<00:00, 10.17it/s, loss=0.1411]\n"
     ]
    },
    {
     "name": "stdout",
     "output_type": "stream",
     "text": [
      "Validation loss: 0.14108668161290033\n",
      "MAE per label:\n",
      "\tacousticness        0.2200\n",
      "\tdanceability        0.0996\n",
      "\tenergy              0.1313\n",
      "\tinstrumentalness    0.2058\n",
      "\tliveness            0.0925\n",
      "\tspeechiness         0.0494\n",
      "\tvalence             0.1890\n",
      "Epoch 17:\n"
     ]
    },
    {
     "name": "stderr",
     "output_type": "stream",
     "text": [
      "Training: 100%|██████████| 165/165 [00:11<00:00, 14.34it/s, loss=0.1386, lr=0.0009136267468501441]\n",
      "Validation: 100%|██████████| 42/42 [00:04<00:00,  9.99it/s, loss=0.1376]\n"
     ]
    },
    {
     "name": "stdout",
     "output_type": "stream",
     "text": [
      "Validation loss: 0.13758148891585215\n",
      "MAE per label:\n",
      "\tacousticness        0.2109\n",
      "\tdanceability        0.1018\n",
      "\tenergy              0.1222\n",
      "\tinstrumentalness    0.2098\n",
      "\tliveness            0.0918\n",
      "\tspeechiness         0.0463\n",
      "\tvalence             0.1803\n",
      "Epoch 18:\n"
     ]
    },
    {
     "name": "stderr",
     "output_type": "stream",
     "text": [
      "Training: 100%|██████████| 165/165 [00:11<00:00, 14.45it/s, loss=0.1379, lr=0.0009046039886902867]\n",
      "Validation: 100%|██████████| 42/42 [00:04<00:00, 10.06it/s, loss=0.1382]\n"
     ]
    },
    {
     "name": "stdout",
     "output_type": "stream",
     "text": [
      "Validation loss: 0.13821153608816011\n",
      "MAE per label:\n",
      "\tacousticness        0.2119\n",
      "\tdanceability        0.0981\n",
      "\tenergy              0.1266\n",
      "\tinstrumentalness    0.2069\n",
      "\tliveness            0.0927\n",
      "\tspeechiness         0.0480\n",
      "\tvalence             0.1834\n",
      "Epoch 19:\n"
     ]
    },
    {
     "name": "stderr",
     "output_type": "stream",
     "text": [
      "Training: 100%|██████████| 165/165 [00:11<00:00, 14.50it/s, loss=0.1373, lr=0.0008951824286816577]\n",
      "Validation: 100%|██████████| 42/42 [00:04<00:00, 10.03it/s, loss=0.1363]\n"
     ]
    },
    {
     "name": "stdout",
     "output_type": "stream",
     "text": [
      "Validation loss: 0.13634321306432998\n",
      "MAE per label:\n",
      "\tacousticness        0.2100\n",
      "\tdanceability        0.0966\n",
      "\tenergy              0.1184\n",
      "\tinstrumentalness    0.2060\n",
      "\tliveness            0.0920\n",
      "\tspeechiness         0.0469\n",
      "\tvalence             0.1845\n",
      "Saved new best model\n",
      "Epoch 20:\n"
     ]
    },
    {
     "name": "stderr",
     "output_type": "stream",
     "text": [
      "Training: 100%|██████████| 165/165 [00:11<00:00, 14.43it/s, loss=0.1364, lr=0.0008853713647665071]\n",
      "Validation: 100%|██████████| 42/42 [00:04<00:00, 10.32it/s, loss=0.1362]\n"
     ]
    },
    {
     "name": "stdout",
     "output_type": "stream",
     "text": [
      "Validation loss: 0.13621270567888305\n",
      "MAE per label:\n",
      "\tacousticness        0.2113\n",
      "\tdanceability        0.0973\n",
      "\tenergy              0.1190\n",
      "\tinstrumentalness    0.2054\n",
      "\tliveness            0.0920\n",
      "\tspeechiness         0.0472\n",
      "\tvalence             0.1814\n",
      "Saved new best model\n",
      "Epoch 21:\n"
     ]
    },
    {
     "name": "stderr",
     "output_type": "stream",
     "text": [
      "Training: 100%|██████████| 165/165 [00:11<00:00, 14.43it/s, loss=0.1366, lr=0.0008751804792804149]\n",
      "Validation: 100%|██████████| 42/42 [00:04<00:00, 10.02it/s, loss=0.1364]\n"
     ]
    },
    {
     "name": "stdout",
     "output_type": "stream",
     "text": [
      "Validation loss: 0.13644134820926757\n",
      "MAE per label:\n",
      "\tacousticness        0.2072\n",
      "\tdanceability        0.0985\n",
      "\tenergy              0.1178\n",
      "\tinstrumentalness    0.2058\n",
      "\tliveness            0.0922\n",
      "\tspeechiness         0.0489\n",
      "\tvalence             0.1848\n",
      "Epoch 22:\n"
     ]
    },
    {
     "name": "stderr",
     "output_type": "stream",
     "text": [
      "Training: 100%|██████████| 165/165 [00:11<00:00, 14.48it/s, loss=0.1367, lr=0.0008646198293969954]\n",
      "Validation: 100%|██████████| 42/42 [00:04<00:00, 10.10it/s, loss=0.1362]\n"
     ]
    },
    {
     "name": "stdout",
     "output_type": "stream",
     "text": [
      "Validation loss: 0.13623168000153132\n",
      "MAE per label:\n",
      "\tacousticness        0.2106\n",
      "\tdanceability        0.0966\n",
      "\tenergy              0.1176\n",
      "\tinstrumentalness    0.2076\n",
      "\tliveness            0.0917\n",
      "\tspeechiness         0.0472\n",
      "\tvalence             0.1822\n",
      "Epoch 23:\n"
     ]
    },
    {
     "name": "stderr",
     "output_type": "stream",
     "text": [
      "Training: 100%|██████████| 165/165 [00:11<00:00, 14.45it/s, loss=0.1364, lr=0.0008536998372026807]\n",
      "Validation: 100%|██████████| 42/42 [00:04<00:00, 10.10it/s, loss=0.1367]\n"
     ]
    },
    {
     "name": "stdout",
     "output_type": "stream",
     "text": [
      "Validation loss: 0.13668017869903928\n",
      "MAE per label:\n",
      "\tacousticness        0.2086\n",
      "\tdanceability        0.0985\n",
      "\tenergy              0.1174\n",
      "\tinstrumentalness    0.2041\n",
      "\tliveness            0.0920\n",
      "\tspeechiness         0.0476\n",
      "\tvalence             0.1886\n",
      "Epoch 24:\n"
     ]
    },
    {
     "name": "stderr",
     "output_type": "stream",
     "text": [
      "Training: 100%|██████████| 165/165 [00:11<00:00, 14.35it/s, loss=0.1361, lr=0.0008424312794113804]\n",
      "Validation: 100%|██████████| 42/42 [00:04<00:00, 10.05it/s, loss=0.1369]\n"
     ]
    },
    {
     "name": "stdout",
     "output_type": "stream",
     "text": [
      "Validation loss: 0.13691121641369092\n",
      "MAE per label:\n",
      "\tacousticness        0.2109\n",
      "\tdanceability        0.0949\n",
      "\tenergy              0.1178\n",
      "\tinstrumentalness    0.2080\n",
      "\tliveness            0.0920\n",
      "\tspeechiness         0.0482\n",
      "\tvalence             0.1866\n",
      "Epoch 25:\n"
     ]
    },
    {
     "name": "stderr",
     "output_type": "stream",
     "text": [
      "Training: 100%|██████████| 165/165 [00:11<00:00, 14.62it/s, loss=0.1355, lr=0.0008308252767291644]\n",
      "Validation: 100%|██████████| 42/42 [00:04<00:00, 10.03it/s, loss=0.1366]\n"
     ]
    },
    {
     "name": "stdout",
     "output_type": "stream",
     "text": [
      "Validation loss: 0.1365754740933577\n",
      "MAE per label:\n",
      "\tacousticness        0.2097\n",
      "\tdanceability        0.1027\n",
      "\tenergy              0.1179\n",
      "\tinstrumentalness    0.2075\n",
      "\tliveness            0.0916\n",
      "\tspeechiness         0.0468\n",
      "\tvalence             0.1798\n",
      "Epoch 26:\n"
     ]
    },
    {
     "name": "stderr",
     "output_type": "stream",
     "text": [
      "Training: 100%|██████████| 165/165 [00:11<00:00, 14.51it/s, loss=0.1343, lr=0.0008188932828794708]\n",
      "Validation: 100%|██████████| 42/42 [00:04<00:00, 10.04it/s, loss=0.1356]\n"
     ]
    },
    {
     "name": "stdout",
     "output_type": "stream",
     "text": [
      "Validation loss: 0.13561774346800076\n",
      "MAE per label:\n",
      "\tacousticness        0.2107\n",
      "\tdanceability        0.0960\n",
      "\tenergy              0.1186\n",
      "\tinstrumentalness    0.2029\n",
      "\tliveness            0.0921\n",
      "\tspeechiness         0.0472\n",
      "\tvalence             0.1819\n",
      "Saved new best model\n",
      "Epoch 27:\n"
     ]
    },
    {
     "name": "stderr",
     "output_type": "stream",
     "text": [
      "Training: 100%|██████████| 165/165 [00:11<00:00, 14.34it/s, loss=0.1347, lr=0.0008066470732996621]\n",
      "Validation: 100%|██████████| 42/42 [00:04<00:00,  9.93it/s, loss=0.1340]\n"
     ]
    },
    {
     "name": "stdout",
     "output_type": "stream",
     "text": [
      "Validation loss: 0.13402032390946433\n",
      "MAE per label:\n",
      "\tacousticness        0.2058\n",
      "\tdanceability        0.0942\n",
      "\tenergy              0.1165\n",
      "\tinstrumentalness    0.2043\n",
      "\tliveness            0.0913\n",
      "\tspeechiness         0.0463\n",
      "\tvalence             0.1798\n",
      "Saved new best model\n",
      "Epoch 28:\n"
     ]
    },
    {
     "name": "stderr",
     "output_type": "stream",
     "text": [
      "Training: 100%|██████████| 165/165 [00:11<00:00, 14.52it/s, loss=0.1344, lr=0.0007940987335200907]\n",
      "Validation: 100%|██████████| 42/42 [00:04<00:00, 10.07it/s, loss=0.1352]\n"
     ]
    },
    {
     "name": "stdout",
     "output_type": "stream",
     "text": [
      "Validation loss: 0.13518685829781352\n",
      "MAE per label:\n",
      "\tacousticness        0.2043\n",
      "\tdanceability        0.0966\n",
      "\tenergy              0.1205\n",
      "\tinstrumentalness    0.2052\n",
      "\tliveness            0.0917\n",
      "\tspeechiness         0.0460\n",
      "\tvalence             0.1820\n",
      "Epoch 29:\n"
     ]
    },
    {
     "name": "stderr",
     "output_type": "stream",
     "text": [
      "Training: 100%|██████████| 165/165 [00:11<00:00, 14.88it/s, loss=0.1341, lr=0.0007812606472371396]\n",
      "Validation: 100%|██████████| 42/42 [00:04<00:00, 10.35it/s, loss=0.1347]\n"
     ]
    },
    {
     "name": "stdout",
     "output_type": "stream",
     "text": [
      "Validation loss: 0.13469056820585615\n",
      "MAE per label:\n",
      "\tacousticness        0.2062\n",
      "\tdanceability        0.0943\n",
      "\tenergy              0.1169\n",
      "\tinstrumentalness    0.2036\n",
      "\tliveness            0.0915\n",
      "\tspeechiness         0.0464\n",
      "\tvalence             0.1839\n",
      "Epoch 30:\n"
     ]
    },
    {
     "name": "stderr",
     "output_type": "stream",
     "text": [
      "Training: 100%|██████████| 165/165 [00:10<00:00, 15.06it/s, loss=0.1329, lr=0.0007681454840920091]\n",
      "Validation: 100%|██████████| 42/42 [00:04<00:00, 10.40it/s, loss=0.1349]\n"
     ]
    },
    {
     "name": "stdout",
     "output_type": "stream",
     "text": [
      "Validation loss: 0.13489606834593273\n",
      "MAE per label:\n",
      "\tacousticness        0.2088\n",
      "\tdanceability        0.0991\n",
      "\tenergy              0.1163\n",
      "\tinstrumentalness    0.2035\n",
      "\tliveness            0.0916\n",
      "\tspeechiness         0.0453\n",
      "\tvalence             0.1796\n",
      "Epoch 31:\n"
     ]
    },
    {
     "name": "stderr",
     "output_type": "stream",
     "text": [
      "Training: 100%|██████████| 165/165 [00:11<00:00, 14.62it/s, loss=0.1330, lr=0.0007547661871673109]\n",
      "Validation: 100%|██████████| 42/42 [00:04<00:00, 10.38it/s, loss=0.1341]\n"
     ]
    },
    {
     "name": "stdout",
     "output_type": "stream",
     "text": [
      "Validation loss: 0.13409813599927084\n",
      "MAE per label:\n",
      "\tacousticness        0.2044\n",
      "\tdanceability        0.0946\n",
      "\tenergy              0.1172\n",
      "\tinstrumentalness    0.2017\n",
      "\tliveness            0.0915\n",
      "\tspeechiness         0.0458\n",
      "\tvalence             0.1835\n",
      "Epoch 32:\n"
     ]
    },
    {
     "name": "stderr",
     "output_type": "stream",
     "text": [
      "Training: 100%|██████████| 165/165 [00:11<00:00, 14.52it/s, loss=0.1329, lr=0.0007411359602138072]\n",
      "Validation: 100%|██████████| 42/42 [00:04<00:00, 10.11it/s, loss=0.1339]\n"
     ]
    },
    {
     "name": "stdout",
     "output_type": "stream",
     "text": [
      "Validation loss: 0.13391085448009626\n",
      "MAE per label:\n",
      "\tacousticness        0.2047\n",
      "\tdanceability        0.0955\n",
      "\tenergy              0.1195\n",
      "\tinstrumentalness    0.2018\n",
      "\tliveness            0.0911\n",
      "\tspeechiness         0.0454\n",
      "\tvalence             0.1793\n",
      "Saved new best model\n",
      "Epoch 33:\n"
     ]
    },
    {
     "name": "stderr",
     "output_type": "stream",
     "text": [
      "Training: 100%|██████████| 165/165 [00:11<00:00, 14.22it/s, loss=0.1321, lr=0.000727268254619904]\n",
      "Validation: 100%|██████████| 42/42 [00:04<00:00, 10.11it/s, loss=0.1339]\n"
     ]
    },
    {
     "name": "stdout",
     "output_type": "stream",
     "text": [
      "Validation loss: 0.1338789439981892\n",
      "MAE per label:\n",
      "\tacousticness        0.2044\n",
      "\tdanceability        0.0976\n",
      "\tenergy              0.1170\n",
      "\tinstrumentalness    0.2011\n",
      "\tliveness            0.0908\n",
      "\tspeechiness         0.0458\n",
      "\tvalence             0.1805\n",
      "Saved new best model\n",
      "Epoch 34:\n"
     ]
    },
    {
     "name": "stderr",
     "output_type": "stream",
     "text": [
      "Training: 100%|██████████| 165/165 [00:11<00:00, 14.50it/s, loss=0.1329, lr=0.0007131767561367542]\n",
      "Validation: 100%|██████████| 42/42 [00:04<00:00, 10.08it/s, loss=0.1336]\n"
     ]
    },
    {
     "name": "stdout",
     "output_type": "stream",
     "text": [
      "Validation loss: 0.13355100137137232\n",
      "MAE per label:\n",
      "\tacousticness        0.2067\n",
      "\tdanceability        0.0961\n",
      "\tenergy              0.1153\n",
      "\tinstrumentalness    0.2012\n",
      "\tliveness            0.0913\n",
      "\tspeechiness         0.0449\n",
      "\tvalence             0.1794\n",
      "Saved new best model\n",
      "Epoch 35:\n"
     ]
    },
    {
     "name": "stderr",
     "output_type": "stream",
     "text": [
      "Training: 100%|██████████| 165/165 [00:11<00:00, 14.34it/s, loss=0.1329, lr=0.0006988753713720732]\n",
      "Validation: 100%|██████████| 42/42 [00:04<00:00, 10.02it/s, loss=0.1344]\n"
     ]
    },
    {
     "name": "stdout",
     "output_type": "stream",
     "text": [
      "Validation loss: 0.13442678447990192\n",
      "MAE per label:\n",
      "\tacousticness        0.2130\n",
      "\tdanceability        0.0944\n",
      "\tenergy              0.1170\n",
      "\tinstrumentalness    0.2016\n",
      "\tliveness            0.0909\n",
      "\tspeechiness         0.0458\n",
      "\tvalence             0.1784\n",
      "Epoch 36:\n"
     ]
    },
    {
     "name": "stderr",
     "output_type": "stream",
     "text": [
      "Training: 100%|██████████| 165/165 [00:11<00:00, 14.38it/s, loss=0.1318, lr=0.000684378214065997]\n",
      "Validation: 100%|██████████| 42/42 [00:04<00:00, 10.23it/s, loss=0.1337]\n"
     ]
    },
    {
     "name": "stdout",
     "output_type": "stream",
     "text": [
      "Validation loss: 0.1337104987885271\n",
      "MAE per label:\n",
      "\tacousticness        0.2062\n",
      "\tdanceability        0.0963\n",
      "\tenergy              0.1152\n",
      "\tinstrumentalness    0.2032\n",
      "\tliveness            0.0909\n",
      "\tspeechiness         0.0452\n",
      "\tvalence             0.1791\n",
      "Epoch 37:\n"
     ]
    },
    {
     "name": "stderr",
     "output_type": "stream",
     "text": [
      "Training: 100%|██████████| 165/165 [00:11<00:00, 14.47it/s, loss=0.1321, lr=0.0006696995911625234]\n",
      "Validation: 100%|██████████| 42/42 [00:04<00:00, 10.25it/s, loss=0.1339]\n"
     ]
    },
    {
     "name": "stdout",
     "output_type": "stream",
     "text": [
      "Validation loss: 0.13386023026846705\n",
      "MAE per label:\n",
      "\tacousticness        0.2060\n",
      "\tdanceability        0.0949\n",
      "\tenergy              0.1213\n",
      "\tinstrumentalness    0.2009\n",
      "\tliveness            0.0910\n",
      "\tspeechiness         0.0451\n",
      "\tvalence             0.1778\n",
      "Epoch 38:\n"
     ]
    },
    {
     "name": "stderr",
     "output_type": "stream",
     "text": [
      "Training: 100%|██████████| 165/165 [00:11<00:00, 14.36it/s, loss=0.1311, lr=0.0006548539886902865]\n",
      "Validation: 100%|██████████| 42/42 [00:04<00:00, 10.01it/s, loss=0.1323]\n"
     ]
    },
    {
     "name": "stdout",
     "output_type": "stream",
     "text": [
      "Validation loss: 0.13225214626817478\n",
      "MAE per label:\n",
      "\tacousticness        0.1981\n",
      "\tdanceability        0.0963\n",
      "\tenergy              0.1157\n",
      "\tinstrumentalness    0.1974\n",
      "\tliveness            0.0911\n",
      "\tspeechiness         0.0456\n",
      "\tvalence             0.1817\n",
      "Saved new best model\n",
      "Epoch 39:\n"
     ]
    },
    {
     "name": "stderr",
     "output_type": "stream",
     "text": [
      "Training: 100%|██████████| 165/165 [00:11<00:00, 14.53it/s, loss=0.1309, lr=0.0006398560574665953]\n",
      "Validation: 100%|██████████| 42/42 [00:04<00:00,  9.96it/s, loss=0.1327]\n"
     ]
    },
    {
     "name": "stdout",
     "output_type": "stream",
     "text": [
      "Validation loss: 0.13273236634475843\n",
      "MAE per label:\n",
      "\tacousticness        0.2031\n",
      "\tdanceability        0.0959\n",
      "\tenergy              0.1161\n",
      "\tinstrumentalness    0.1998\n",
      "\tliveness            0.0910\n",
      "\tspeechiness         0.0452\n",
      "\tvalence             0.1780\n",
      "Epoch 40:\n"
     ]
    },
    {
     "name": "stderr",
     "output_type": "stream",
     "text": [
      "Training: 100%|██████████| 165/165 [00:11<00:00, 14.14it/s, loss=0.1319, lr=0.0006247205986388451]\n",
      "Validation: 100%|██████████| 42/42 [00:04<00:00, 10.07it/s, loss=0.1335]\n"
     ]
    },
    {
     "name": "stdout",
     "output_type": "stream",
     "text": [
      "Validation loss: 0.133514071504275\n",
      "MAE per label:\n",
      "\tacousticness        0.2062\n",
      "\tdanceability        0.0952\n",
      "\tenergy              0.1149\n",
      "\tinstrumentalness    0.2013\n",
      "\tliveness            0.0908\n",
      "\tspeechiness         0.0462\n",
      "\tvalence             0.1801\n",
      "Epoch 41:\n"
     ]
    },
    {
     "name": "stderr",
     "output_type": "stream",
     "text": [
      "Training: 100%|██████████| 165/165 [00:11<00:00, 14.64it/s, loss=0.1305, lr=0.0006094625490775733]\n",
      "Validation: 100%|██████████| 42/42 [00:04<00:00, 10.07it/s, loss=0.1351]\n"
     ]
    },
    {
     "name": "stdout",
     "output_type": "stream",
     "text": [
      "Validation loss: 0.13508072193889392\n",
      "MAE per label:\n",
      "\tacousticness        0.2143\n",
      "\tdanceability        0.0944\n",
      "\tenergy              0.1169\n",
      "\tinstrumentalness    0.2032\n",
      "\tliveness            0.0911\n",
      "\tspeechiness         0.0453\n",
      "\tvalence             0.1804\n",
      "Epoch 42:\n"
     ]
    },
    {
     "name": "stderr",
     "output_type": "stream",
     "text": [
      "Training: 100%|██████████| 165/165 [00:11<00:00, 14.70it/s, loss=0.1299, lr=0.0005940969666355698]\n",
      "Validation: 100%|██████████| 42/42 [00:04<00:00, 10.12it/s, loss=0.1321]\n"
     ]
    },
    {
     "name": "stdout",
     "output_type": "stream",
     "text": [
      "Validation loss: 0.13213074757229715\n",
      "MAE per label:\n",
      "\tacousticness        0.2028\n",
      "\tdanceability        0.0942\n",
      "\tenergy              0.1152\n",
      "\tinstrumentalness    0.1991\n",
      "\tliveness            0.0905\n",
      "\tspeechiness         0.0447\n",
      "\tvalence             0.1784\n",
      "Saved new best model\n",
      "Epoch 43:\n"
     ]
    },
    {
     "name": "stderr",
     "output_type": "stream",
     "text": [
      "Training: 100%|██████████| 165/165 [00:11<00:00, 14.24it/s, loss=0.1299, lr=0.0005786390152875956]\n",
      "Validation: 100%|██████████| 42/42 [00:04<00:00, 10.06it/s, loss=0.1323]\n"
     ]
    },
    {
     "name": "stdout",
     "output_type": "stream",
     "text": [
      "Validation loss: 0.13229512849024364\n",
      "MAE per label:\n",
      "\tacousticness        0.2022\n",
      "\tdanceability        0.0945\n",
      "\tenergy              0.1168\n",
      "\tinstrumentalness    0.1992\n",
      "\tliveness            0.0907\n",
      "\tspeechiness         0.0453\n",
      "\tvalence             0.1775\n",
      "Epoch 44:\n"
     ]
    },
    {
     "name": "stderr",
     "output_type": "stream",
     "text": [
      "Training: 100%|██████████| 165/165 [00:11<00:00, 14.15it/s, loss=0.1297, lr=0.0005631039501653703]\n",
      "Validation: 100%|██████████| 42/42 [00:04<00:00, 10.08it/s, loss=0.1326]\n"
     ]
    },
    {
     "name": "stdout",
     "output_type": "stream",
     "text": [
      "Validation loss: 0.13256071135401726\n",
      "MAE per label:\n",
      "\tacousticness        0.2036\n",
      "\tdanceability        0.0957\n",
      "\tenergy              0.1142\n",
      "\tinstrumentalness    0.2014\n",
      "\tliveness            0.0906\n",
      "\tspeechiness         0.0452\n",
      "\tvalence             0.1772\n",
      "Epoch 45:\n"
     ]
    },
    {
     "name": "stderr",
     "output_type": "stream",
     "text": [
      "Training: 100%|██████████| 165/165 [00:11<00:00, 14.56it/s, loss=0.1299, lr=0.0005475071025025981]\n",
      "Validation: 100%|██████████| 42/42 [00:04<00:00,  9.64it/s, loss=0.1330]\n"
     ]
    },
    {
     "name": "stdout",
     "output_type": "stream",
     "text": [
      "Validation loss: 0.13298188291844867\n",
      "MAE per label:\n",
      "\tacousticness        0.2025\n",
      "\tdanceability        0.0974\n",
      "\tenergy              0.1190\n",
      "\tinstrumentalness    0.1997\n",
      "\tliveness            0.0905\n",
      "\tspeechiness         0.0449\n",
      "\tvalence             0.1769\n",
      "Epoch 46:\n"
     ]
    },
    {
     "name": "stderr",
     "output_type": "stream",
     "text": [
      "Training: 100%|██████████| 165/165 [00:11<00:00, 14.19it/s, loss=0.1295, lr=0.0005318638645048923]\n",
      "Validation: 100%|██████████| 42/42 [00:04<00:00, 10.02it/s, loss=0.1326]\n"
     ]
    },
    {
     "name": "stdout",
     "output_type": "stream",
     "text": [
      "Validation loss: 0.13263997772619837\n",
      "MAE per label:\n",
      "\tacousticness        0.2045\n",
      "\tdanceability        0.0960\n",
      "\tenergy              0.1143\n",
      "\tinstrumentalness    0.2017\n",
      "\tliveness            0.0905\n",
      "\tspeechiness         0.0452\n",
      "\tvalence             0.1763\n",
      "Epoch 47:\n"
     ]
    },
    {
     "name": "stderr",
     "output_type": "stream",
     "text": [
      "Training: 100%|██████████| 165/165 [00:11<00:00, 14.45it/s, loss=0.1290, lr=0.0005161896741595253]\n",
      "Validation: 100%|██████████| 42/42 [00:04<00:00,  9.83it/s, loss=0.1313]\n"
     ]
    },
    {
     "name": "stdout",
     "output_type": "stream",
     "text": [
      "Validation loss: 0.13131160785754523\n",
      "MAE per label:\n",
      "\tacousticness        0.1992\n",
      "\tdanceability        0.0947\n",
      "\tenergy              0.1147\n",
      "\tinstrumentalness    0.1986\n",
      "\tliveness            0.0904\n",
      "\tspeechiness         0.0448\n",
      "\tvalence             0.1768\n",
      "Saved new best model\n",
      "Epoch 48:\n"
     ]
    },
    {
     "name": "stderr",
     "output_type": "stream",
     "text": [
      "Training: 100%|██████████| 165/165 [00:11<00:00, 14.40it/s, loss=0.1283, lr=0.0005005000000000002]\n",
      "Validation: 100%|██████████| 42/42 [00:04<00:00, 10.09it/s, loss=0.1327]\n"
     ]
    },
    {
     "name": "stdout",
     "output_type": "stream",
     "text": [
      "Validation loss: 0.1327189597345534\n",
      "MAE per label:\n",
      "\tacousticness        0.2053\n",
      "\tdanceability        0.0943\n",
      "\tenergy              0.1157\n",
      "\tinstrumentalness    0.1990\n",
      "\tliveness            0.0907\n",
      "\tspeechiness         0.0449\n",
      "\tvalence             0.1792\n",
      "Epoch 49:\n"
     ]
    },
    {
     "name": "stderr",
     "output_type": "stream",
     "text": [
      "Training: 100%|██████████| 165/165 [00:11<00:00, 14.55it/s, loss=0.1279, lr=0.0004848103258404751]\n",
      "Validation: 100%|██████████| 42/42 [00:04<00:00,  9.60it/s, loss=0.1326]\n"
     ]
    },
    {
     "name": "stdout",
     "output_type": "stream",
     "text": [
      "Validation loss: 0.13261199689337186\n",
      "MAE per label:\n",
      "\tacousticness        0.2028\n",
      "\tdanceability        0.0950\n",
      "\tenergy              0.1162\n",
      "\tinstrumentalness    0.2028\n",
      "\tliveness            0.0902\n",
      "\tspeechiness         0.0448\n",
      "\tvalence             0.1764\n",
      "Epoch 50:\n"
     ]
    },
    {
     "name": "stderr",
     "output_type": "stream",
     "text": [
      "Training: 100%|██████████| 165/165 [00:11<00:00, 14.31it/s, loss=0.1285, lr=0.0004691361354951082]\n",
      "Validation: 100%|██████████| 42/42 [00:04<00:00, 10.14it/s, loss=0.1329]\n"
     ]
    },
    {
     "name": "stdout",
     "output_type": "stream",
     "text": [
      "Validation loss: 0.13294381914394243\n",
      "MAE per label:\n",
      "\tacousticness        0.2067\n",
      "\tdanceability        0.0942\n",
      "\tenergy              0.1155\n",
      "\tinstrumentalness    0.1998\n",
      "\tliveness            0.0904\n",
      "\tspeechiness         0.0445\n",
      "\tvalence             0.1795\n",
      "Epoch 51:\n"
     ]
    },
    {
     "name": "stderr",
     "output_type": "stream",
     "text": [
      "Training: 100%|██████████| 165/165 [00:11<00:00, 14.37it/s, loss=0.1272, lr=0.00045349289749740224]\n",
      "Validation: 100%|██████████| 42/42 [00:04<00:00, 10.04it/s, loss=0.1318]\n"
     ]
    },
    {
     "name": "stdout",
     "output_type": "stream",
     "text": [
      "Validation loss: 0.13180241574134147\n",
      "MAE per label:\n",
      "\tacousticness        0.2002\n",
      "\tdanceability        0.0940\n",
      "\tenergy              0.1155\n",
      "\tinstrumentalness    0.2004\n",
      "\tliveness            0.0902\n",
      "\tspeechiness         0.0449\n",
      "\tvalence             0.1774\n",
      "Epoch 52:\n"
     ]
    },
    {
     "name": "stderr",
     "output_type": "stream",
     "text": [
      "Training: 100%|██████████| 165/165 [00:11<00:00, 14.52it/s, loss=0.1286, lr=0.0004378960498346302]\n",
      "Validation: 100%|██████████| 42/42 [00:04<00:00, 10.10it/s, loss=0.1313]\n"
     ]
    },
    {
     "name": "stdout",
     "output_type": "stream",
     "text": [
      "Validation loss: 0.13129086703771636\n",
      "MAE per label:\n",
      "\tacousticness        0.2003\n",
      "\tdanceability        0.0947\n",
      "\tenergy              0.1150\n",
      "\tinstrumentalness    0.1983\n",
      "\tliveness            0.0904\n",
      "\tspeechiness         0.0446\n",
      "\tvalence             0.1757\n",
      "Saved new best model\n",
      "Epoch 53:\n"
     ]
    },
    {
     "name": "stderr",
     "output_type": "stream",
     "text": [
      "Training: 100%|██████████| 165/165 [00:11<00:00, 14.52it/s, loss=0.1266, lr=0.0004223609847124048]\n",
      "Validation: 100%|██████████| 42/42 [00:04<00:00, 10.10it/s, loss=0.1323]\n"
     ]
    },
    {
     "name": "stdout",
     "output_type": "stream",
     "text": [
      "Validation loss: 0.13226475956894101\n",
      "MAE per label:\n",
      "\tacousticness        0.2051\n",
      "\tdanceability        0.0929\n",
      "\tenergy              0.1144\n",
      "\tinstrumentalness    0.1995\n",
      "\tliveness            0.0902\n",
      "\tspeechiness         0.0447\n",
      "\tvalence             0.1790\n",
      "Epoch 54:\n"
     ]
    },
    {
     "name": "stderr",
     "output_type": "stream",
     "text": [
      "Training: 100%|██████████| 165/165 [00:14<00:00, 11.20it/s, loss=0.1280, lr=0.0004069030333644307]\n",
      "Validation: 100%|██████████| 42/42 [00:06<00:00,  6.07it/s, loss=0.1328]\n"
     ]
    },
    {
     "name": "stdout",
     "output_type": "stream",
     "text": [
      "Validation loss: 0.13281494609656788\n",
      "MAE per label:\n",
      "\tacousticness        0.2068\n",
      "\tdanceability        0.0945\n",
      "\tenergy              0.1156\n",
      "\tinstrumentalness    0.2007\n",
      "\tliveness            0.0902\n",
      "\tspeechiness         0.0452\n",
      "\tvalence             0.1767\n",
      "Epoch 55:\n"
     ]
    },
    {
     "name": "stderr",
     "output_type": "stream",
     "text": [
      "Training: 100%|██████████| 165/165 [00:13<00:00, 11.89it/s, loss=0.1274, lr=0.0003915374509224273]\n",
      "Validation: 100%|██████████| 42/42 [00:06<00:00,  6.06it/s, loss=0.1315]\n"
     ]
    },
    {
     "name": "stdout",
     "output_type": "stream",
     "text": [
      "Validation loss: 0.13153095827216194\n",
      "MAE per label:\n",
      "\tacousticness        0.2005\n",
      "\tdanceability        0.0944\n",
      "\tenergy              0.1167\n",
      "\tinstrumentalness    0.1986\n",
      "\tliveness            0.0902\n",
      "\tspeechiness         0.0448\n",
      "\tvalence             0.1754\n",
      "Epoch 56:\n"
     ]
    },
    {
     "name": "stderr",
     "output_type": "stream",
     "text": [
      "Training: 100%|██████████| 165/165 [00:16<00:00, 10.16it/s, loss=0.1270, lr=0.0003762794013611551]\n",
      "Validation: 100%|██████████| 42/42 [00:05<00:00,  7.75it/s, loss=0.1314]\n"
     ]
    },
    {
     "name": "stdout",
     "output_type": "stream",
     "text": [
      "Validation loss: 0.1313964889517852\n",
      "MAE per label:\n",
      "\tacousticness        0.1988\n",
      "\tdanceability        0.0943\n",
      "\tenergy              0.1150\n",
      "\tinstrumentalness    0.1988\n",
      "\tliveness            0.0902\n",
      "\tspeechiness         0.0445\n",
      "\tvalence             0.1781\n",
      "Epoch 57:\n"
     ]
    },
    {
     "name": "stderr",
     "output_type": "stream",
     "text": [
      "Training: 100%|██████████| 165/165 [00:13<00:00, 12.61it/s, loss=0.1267, lr=0.00036114394253340513]\n",
      "Validation: 100%|██████████| 42/42 [00:06<00:00,  6.12it/s, loss=0.1310]\n"
     ]
    },
    {
     "name": "stdout",
     "output_type": "stream",
     "text": [
      "Validation loss: 0.1309751733427956\n",
      "MAE per label:\n",
      "\tacousticness        0.1990\n",
      "\tdanceability        0.0930\n",
      "\tenergy              0.1153\n",
      "\tinstrumentalness    0.1979\n",
      "\tliveness            0.0901\n",
      "\tspeechiness         0.0448\n",
      "\tvalence             0.1765\n",
      "Saved new best model\n",
      "Epoch 58:\n"
     ]
    },
    {
     "name": "stderr",
     "output_type": "stream",
     "text": [
      "Training: 100%|██████████| 165/165 [00:16<00:00,  9.99it/s, loss=0.1259, lr=0.000346146011309714]\n",
      "Validation: 100%|██████████| 42/42 [00:06<00:00,  6.10it/s, loss=0.1304]\n"
     ]
    },
    {
     "name": "stdout",
     "output_type": "stream",
     "text": [
      "Validation loss: 0.13035389018200694\n",
      "MAE per label:\n",
      "\tacousticness        0.1959\n",
      "\tdanceability        0.0938\n",
      "\tenergy              0.1146\n",
      "\tinstrumentalness    0.1969\n",
      "\tliveness            0.0901\n",
      "\tspeechiness         0.0448\n",
      "\tvalence             0.1765\n",
      "Saved new best model\n",
      "Epoch 59:\n"
     ]
    },
    {
     "name": "stderr",
     "output_type": "stream",
     "text": [
      "Training: 100%|██████████| 165/165 [00:15<00:00, 10.32it/s, loss=0.1273, lr=0.00033130040883747703]\n",
      "Validation: 100%|██████████| 42/42 [00:06<00:00,  6.03it/s, loss=0.1316]\n"
     ]
    },
    {
     "name": "stdout",
     "output_type": "stream",
     "text": [
      "Validation loss: 0.13159749514999844\n",
      "MAE per label:\n",
      "\tacousticness        0.2023\n",
      "\tdanceability        0.0935\n",
      "\tenergy              0.1160\n",
      "\tinstrumentalness    0.1975\n",
      "\tliveness            0.0902\n",
      "\tspeechiness         0.0448\n",
      "\tvalence             0.1767\n",
      "Epoch 60:\n"
     ]
    },
    {
     "name": "stderr",
     "output_type": "stream",
     "text": [
      "Training: 100%|██████████| 165/165 [00:15<00:00, 10.40it/s, loss=0.1263, lr=0.0003166217859340036]\n",
      "Validation: 100%|██████████| 42/42 [00:06<00:00,  6.10it/s, loss=0.1315]\n"
     ]
    },
    {
     "name": "stdout",
     "output_type": "stream",
     "text": [
      "Validation loss: 0.13147103272023655\n",
      "MAE per label:\n",
      "\tacousticness        0.2010\n",
      "\tdanceability        0.0947\n",
      "\tenergy              0.1142\n",
      "\tinstrumentalness    0.1978\n",
      "\tliveness            0.0902\n",
      "\tspeechiness         0.0447\n",
      "\tvalence             0.1777\n",
      "Epoch 61:\n"
     ]
    },
    {
     "name": "stderr",
     "output_type": "stream",
     "text": [
      "Training: 100%|██████████| 165/165 [00:16<00:00, 10.29it/s, loss=0.1251, lr=0.0003021246286279271]\n",
      "Validation: 100%|██████████| 42/42 [00:06<00:00,  6.35it/s, loss=0.1314]\n"
     ]
    },
    {
     "name": "stdout",
     "output_type": "stream",
     "text": [
      "Validation loss: 0.1314193063548633\n",
      "MAE per label:\n",
      "\tacousticness        0.1999\n",
      "\tdanceability        0.0939\n",
      "\tenergy              0.1153\n",
      "\tinstrumentalness    0.1981\n",
      "\tliveness            0.0900\n",
      "\tspeechiness         0.0448\n",
      "\tvalence             0.1781\n",
      "Epoch 62:\n"
     ]
    },
    {
     "name": "stderr",
     "output_type": "stream",
     "text": [
      "Training: 100%|██████████| 165/165 [00:17<00:00,  9.54it/s, loss=0.1257, lr=0.00028782324386324626]\n",
      "Validation: 100%|██████████| 42/42 [00:06<00:00,  6.07it/s, loss=0.1304]\n"
     ]
    },
    {
     "name": "stdout",
     "output_type": "stream",
     "text": [
      "Validation loss: 0.13040846125001\n",
      "MAE per label:\n",
      "\tacousticness        0.1964\n",
      "\tdanceability        0.0946\n",
      "\tenergy              0.1150\n",
      "\tinstrumentalness    0.1973\n",
      "\tliveness            0.0898\n",
      "\tspeechiness         0.0448\n",
      "\tvalence             0.1750\n",
      "Epoch 63:\n"
     ]
    },
    {
     "name": "stderr",
     "output_type": "stream",
     "text": [
      "Training: 100%|██████████| 165/165 [00:19<00:00,  8.53it/s, loss=0.1251, lr=0.00027373174538009644]\n",
      "Validation: 100%|██████████| 42/42 [00:06<00:00,  6.08it/s, loss=0.1328]\n"
     ]
    },
    {
     "name": "stdout",
     "output_type": "stream",
     "text": [
      "Validation loss: 0.1328300056712968\n",
      "MAE per label:\n",
      "\tacousticness        0.2085\n",
      "\tdanceability        0.0953\n",
      "\tenergy              0.1143\n",
      "\tinstrumentalness    0.1985\n",
      "\tliveness            0.0902\n",
      "\tspeechiness         0.0457\n",
      "\tvalence             0.1773\n",
      "Epoch 64:\n"
     ]
    },
    {
     "name": "stderr",
     "output_type": "stream",
     "text": [
      "Training: 100%|██████████| 165/165 [00:16<00:00,  9.93it/s, loss=0.1249, lr=0.00025986403978619317]\n",
      "Validation: 100%|██████████| 42/42 [00:05<00:00,  7.73it/s, loss=0.1307]\n"
     ]
    },
    {
     "name": "stdout",
     "output_type": "stream",
     "text": [
      "Validation loss: 0.13066385331608\n",
      "MAE per label:\n",
      "\tacousticness        0.1960\n",
      "\tdanceability        0.0942\n",
      "\tenergy              0.1150\n",
      "\tinstrumentalness    0.1975\n",
      "\tliveness            0.0900\n",
      "\tspeechiness         0.0446\n",
      "\tvalence             0.1774\n",
      "Epoch 65:\n"
     ]
    },
    {
     "name": "stderr",
     "output_type": "stream",
     "text": [
      "Training: 100%|██████████| 165/165 [00:16<00:00, 10.26it/s, loss=0.1256, lr=0.00024623381283268956]\n",
      "Validation: 100%|██████████| 42/42 [00:05<00:00,  7.09it/s, loss=0.1302]\n"
     ]
    },
    {
     "name": "stdout",
     "output_type": "stream",
     "text": [
      "Validation loss: 0.13018303559649558\n",
      "MAE per label:\n",
      "\tacousticness        0.1954\n",
      "\tdanceability        0.0940\n",
      "\tenergy              0.1143\n",
      "\tinstrumentalness    0.1971\n",
      "\tliveness            0.0900\n",
      "\tspeechiness         0.0448\n",
      "\tvalence             0.1758\n",
      "Saved new best model\n",
      "Epoch 66:\n"
     ]
    },
    {
     "name": "stderr",
     "output_type": "stream",
     "text": [
      "Training: 100%|██████████| 165/165 [00:17<00:00,  9.34it/s, loss=0.1245, lr=0.00023285451590799108]\n",
      "Validation: 100%|██████████| 42/42 [00:05<00:00,  7.22it/s, loss=0.1297]\n"
     ]
    },
    {
     "name": "stdout",
     "output_type": "stream",
     "text": [
      "Validation loss: 0.12970548566608203\n",
      "MAE per label:\n",
      "\tacousticness        0.1944\n",
      "\tdanceability        0.0935\n",
      "\tenergy              0.1141\n",
      "\tinstrumentalness    0.1961\n",
      "\tliveness            0.0900\n",
      "\tspeechiness         0.0449\n",
      "\tvalence             0.1749\n",
      "Saved new best model\n",
      "Epoch 67:\n"
     ]
    },
    {
     "name": "stderr",
     "output_type": "stream",
     "text": [
      "Training: 100%|██████████| 165/165 [00:16<00:00, 10.13it/s, loss=0.1236, lr=0.00021973935276286074]\n",
      "Validation: 100%|██████████| 42/42 [00:05<00:00,  7.95it/s, loss=0.1303]\n"
     ]
    },
    {
     "name": "stdout",
     "output_type": "stream",
     "text": [
      "Validation loss: 0.1303483224695637\n",
      "MAE per label:\n",
      "\tacousticness        0.1962\n",
      "\tdanceability        0.0942\n",
      "\tenergy              0.1150\n",
      "\tinstrumentalness    0.1978\n",
      "\tliveness            0.0900\n",
      "\tspeechiness         0.0446\n",
      "\tvalence             0.1745\n",
      "Epoch 68:\n"
     ]
    },
    {
     "name": "stderr",
     "output_type": "stream",
     "text": [
      "Training: 100%|██████████| 165/165 [00:15<00:00, 10.39it/s, loss=0.1250, lr=0.00020690126647990976]\n",
      "Validation: 100%|██████████| 42/42 [00:06<00:00,  6.27it/s, loss=0.1314]\n"
     ]
    },
    {
     "name": "stdout",
     "output_type": "stream",
     "text": [
      "Validation loss: 0.13144070442233766\n",
      "MAE per label:\n",
      "\tacousticness        0.2022\n",
      "\tdanceability        0.0942\n",
      "\tenergy              0.1142\n",
      "\tinstrumentalness    0.1978\n",
      "\tliveness            0.0899\n",
      "\tspeechiness         0.0446\n",
      "\tvalence             0.1771\n",
      "Epoch 69:\n"
     ]
    },
    {
     "name": "stderr",
     "output_type": "stream",
     "text": [
      "Training: 100%|██████████| 165/165 [00:16<00:00, 10.19it/s, loss=0.1240, lr=0.00019435292670033822]\n",
      "Validation: 100%|██████████| 42/42 [00:06<00:00,  6.09it/s, loss=0.1308]\n"
     ]
    },
    {
     "name": "stdout",
     "output_type": "stream",
     "text": [
      "Validation loss: 0.13082106411457062\n",
      "MAE per label:\n",
      "\tacousticness        0.1985\n",
      "\tdanceability        0.0951\n",
      "\tenergy              0.1146\n",
      "\tinstrumentalness    0.1979\n",
      "\tliveness            0.0900\n",
      "\tspeechiness         0.0443\n",
      "\tvalence             0.1753\n",
      "Epoch 70:\n"
     ]
    },
    {
     "name": "stderr",
     "output_type": "stream",
     "text": [
      "Training: 100%|██████████| 165/165 [00:16<00:00, 10.15it/s, loss=0.1239, lr=0.0001821067171205295]\n",
      "Validation: 100%|██████████| 42/42 [00:07<00:00,  5.77it/s, loss=0.1306]\n"
     ]
    },
    {
     "name": "stdout",
     "output_type": "stream",
     "text": [
      "Validation loss: 0.1305857692800817\n",
      "MAE per label:\n",
      "\tacousticness        0.1989\n",
      "\tdanceability        0.0932\n",
      "\tenergy              0.1144\n",
      "\tinstrumentalness    0.1970\n",
      "\tliveness            0.0899\n",
      "\tspeechiness         0.0446\n",
      "\tvalence             0.1761\n",
      "Epoch 71:\n"
     ]
    },
    {
     "name": "stderr",
     "output_type": "stream",
     "text": [
      "Training: 100%|██████████| 165/165 [00:16<00:00,  9.75it/s, loss=0.1239, lr=0.000170174723270836]\n",
      "Validation: 100%|██████████| 42/42 [00:06<00:00,  6.08it/s, loss=0.1307]\n"
     ]
    },
    {
     "name": "stdout",
     "output_type": "stream",
     "text": [
      "Validation loss: 0.13069428379336992\n",
      "MAE per label:\n",
      "\tacousticness        0.1998\n",
      "\tdanceability        0.0936\n",
      "\tenergy              0.1138\n",
      "\tinstrumentalness    0.1969\n",
      "\tliveness            0.0900\n",
      "\tspeechiness         0.0446\n",
      "\tvalence             0.1762\n",
      "Epoch 72:\n"
     ]
    },
    {
     "name": "stderr",
     "output_type": "stream",
     "text": [
      "Training: 100%|██████████| 165/165 [00:17<00:00,  9.57it/s, loss=0.1241, lr=0.00015856872058862001]\n",
      "Validation: 100%|██████████| 42/42 [00:06<00:00,  6.07it/s, loss=0.1304]\n"
     ]
    },
    {
     "name": "stdout",
     "output_type": "stream",
     "text": [
      "Validation loss: 0.13042228243180684\n",
      "MAE per label:\n",
      "\tacousticness        0.1968\n",
      "\tdanceability        0.0935\n",
      "\tenergy              0.1143\n",
      "\tinstrumentalness    0.1966\n",
      "\tliveness            0.0899\n",
      "\tspeechiness         0.0447\n",
      "\tvalence             0.1772\n",
      "Epoch 73:\n"
     ]
    },
    {
     "name": "stderr",
     "output_type": "stream",
     "text": [
      "Training: 100%|██████████| 165/165 [00:19<00:00,  8.46it/s, loss=0.1233, lr=0.00014730016279731957]\n",
      "Validation: 100%|██████████| 42/42 [00:06<00:00,  6.07it/s, loss=0.1300]\n"
     ]
    },
    {
     "name": "stdout",
     "output_type": "stream",
     "text": [
      "Validation loss: 0.13004230565968014\n",
      "MAE per label:\n",
      "\tacousticness        0.1949\n",
      "\tdanceability        0.0938\n",
      "\tenergy              0.1148\n",
      "\tinstrumentalness    0.1961\n",
      "\tliveness            0.0898\n",
      "\tspeechiness         0.0445\n",
      "\tvalence             0.1764\n",
      "Epoch 74:\n"
     ]
    },
    {
     "name": "stderr",
     "output_type": "stream",
     "text": [
      "Training: 100%|██████████| 165/165 [00:15<00:00, 10.37it/s, loss=0.1227, lr=0.00013638017060300508]\n",
      "Validation: 100%|██████████| 42/42 [00:06<00:00,  6.05it/s, loss=0.1303]\n"
     ]
    },
    {
     "name": "stdout",
     "output_type": "stream",
     "text": [
      "Validation loss: 0.1302907294815495\n",
      "MAE per label:\n",
      "\tacousticness        0.1952\n",
      "\tdanceability        0.0936\n",
      "\tenergy              0.1159\n",
      "\tinstrumentalness    0.1963\n",
      "\tliveness            0.0900\n",
      "\tspeechiness         0.0447\n",
      "\tvalence             0.1764\n",
      "Epoch 75:\n"
     ]
    },
    {
     "name": "stderr",
     "output_type": "stream",
     "text": [
      "Training: 100%|██████████| 165/165 [00:17<00:00,  9.38it/s, loss=0.1227, lr=0.00012581952071958545]\n",
      "Validation: 100%|██████████| 42/42 [00:06<00:00,  6.03it/s, loss=0.1298]\n"
     ]
    },
    {
     "name": "stdout",
     "output_type": "stream",
     "text": [
      "Validation loss: 0.12977210237156778\n",
      "MAE per label:\n",
      "\tacousticness        0.1946\n",
      "\tdanceability        0.0935\n",
      "\tenergy              0.1155\n",
      "\tinstrumentalness    0.1966\n",
      "\tliveness            0.0899\n",
      "\tspeechiness         0.0443\n",
      "\tvalence             0.1740\n",
      "Epoch 76:\n"
     ]
    },
    {
     "name": "stderr",
     "output_type": "stream",
     "text": [
      "Training: 100%|██████████| 165/165 [00:18<00:00,  8.76it/s, loss=0.1230, lr=0.00011562863523349334]\n",
      "Validation: 100%|██████████| 42/42 [00:06<00:00,  6.07it/s, loss=0.1295]\n"
     ]
    },
    {
     "name": "stdout",
     "output_type": "stream",
     "text": [
      "Validation loss: 0.12952072013701713\n",
      "MAE per label:\n",
      "\tacousticness        0.1942\n",
      "\tdanceability        0.0938\n",
      "\tenergy              0.1136\n",
      "\tinstrumentalness    0.1956\n",
      "\tliveness            0.0899\n",
      "\tspeechiness         0.0443\n",
      "\tvalence             0.1752\n",
      "Saved new best model\n",
      "Epoch 77:\n"
     ]
    },
    {
     "name": "stderr",
     "output_type": "stream",
     "text": [
      "Training: 100%|██████████| 165/165 [00:16<00:00,  9.78it/s, loss=0.1224, lr=0.00010581757131834266]\n",
      "Validation: 100%|██████████| 42/42 [00:06<00:00,  6.08it/s, loss=0.1301]\n"
     ]
    },
    {
     "name": "stdout",
     "output_type": "stream",
     "text": [
      "Validation loss: 0.1301116302964233\n",
      "MAE per label:\n",
      "\tacousticness        0.1964\n",
      "\tdanceability        0.0943\n",
      "\tenergy              0.1149\n",
      "\tinstrumentalness    0.1966\n",
      "\tliveness            0.0898\n",
      "\tspeechiness         0.0445\n",
      "\tvalence             0.1742\n",
      "Epoch 78:\n"
     ]
    },
    {
     "name": "stderr",
     "output_type": "stream",
     "text": [
      "Training: 100%|██████████| 165/165 [00:17<00:00,  9.39it/s, loss=0.1218, lr=9.639601130971382e-05]\n",
      "Validation: 100%|██████████| 42/42 [00:06<00:00,  6.10it/s, loss=0.1303]\n"
     ]
    },
    {
     "name": "stdout",
     "output_type": "stream",
     "text": [
      "Validation loss: 0.13028390776543392\n",
      "MAE per label:\n",
      "\tacousticness        0.1956\n",
      "\tdanceability        0.0938\n",
      "\tenergy              0.1157\n",
      "\tinstrumentalness    0.1965\n",
      "\tliveness            0.0897\n",
      "\tspeechiness         0.0443\n",
      "\tvalence             0.1763\n",
      "Epoch 79:\n"
     ]
    },
    {
     "name": "stderr",
     "output_type": "stream",
     "text": [
      "Training: 100%|██████████| 165/165 [00:17<00:00,  9.70it/s, loss=0.1215, lr=8.737325314985643e-05]\n",
      "Validation: 100%|██████████| 42/42 [00:06<00:00,  6.11it/s, loss=0.1293]\n"
     ]
    },
    {
     "name": "stdout",
     "output_type": "stream",
     "text": [
      "Validation loss: 0.1293357422664052\n",
      "MAE per label:\n",
      "\tacousticness        0.1936\n",
      "\tdanceability        0.0934\n",
      "\tenergy              0.1140\n",
      "\tinstrumentalness    0.1951\n",
      "\tliveness            0.0898\n",
      "\tspeechiness         0.0445\n",
      "\tvalence             0.1749\n",
      "Saved new best model\n",
      "Epoch 80:\n"
     ]
    },
    {
     "name": "stderr",
     "output_type": "stream",
     "text": [
      "Training: 100%|██████████| 165/165 [00:16<00:00, 10.23it/s, loss=0.1218, lr=7.875820121174359e-05]\n",
      "Validation: 100%|██████████| 42/42 [00:06<00:00,  6.03it/s, loss=0.1300]\n"
     ]
    },
    {
     "name": "stdout",
     "output_type": "stream",
     "text": [
      "Validation loss: 0.12998618008125395\n",
      "MAE per label:\n",
      "\tacousticness        0.1968\n",
      "\tdanceability        0.0937\n",
      "\tenergy              0.1143\n",
      "\tinstrumentalness    0.1954\n",
      "\tliveness            0.0897\n",
      "\tspeechiness         0.0443\n",
      "\tvalence             0.1757\n",
      "Epoch 81:\n"
     ]
    },
    {
     "name": "stderr",
     "output_type": "stream",
     "text": [
      "Training: 100%|██████████| 165/165 [00:16<00:00, 10.24it/s, loss=0.1225, lr=7.05593575115301e-05]\n",
      "Validation: 100%|██████████| 42/42 [00:06<00:00,  6.24it/s, loss=0.1293]\n"
     ]
    },
    {
     "name": "stdout",
     "output_type": "stream",
     "text": [
      "Validation loss: 0.12932198423714863\n",
      "MAE per label:\n",
      "\tacousticness        0.1938\n",
      "\tdanceability        0.0933\n",
      "\tenergy              0.1148\n",
      "\tinstrumentalness    0.1946\n",
      "\tliveness            0.0897\n",
      "\tspeechiness         0.0443\n",
      "\tvalence             0.1747\n",
      "Saved new best model\n",
      "Epoch 82:\n"
     ]
    },
    {
     "name": "stderr",
     "output_type": "stream",
     "text": [
      "Training: 100%|██████████| 165/165 [00:11<00:00, 14.39it/s, loss=0.1209, lr=6.278481331809015e-05]\n",
      "Validation: 100%|██████████| 42/42 [00:04<00:00,  9.75it/s, loss=0.1293]\n"
     ]
    },
    {
     "name": "stdout",
     "output_type": "stream",
     "text": [
      "Validation loss: 0.12929879838512057\n",
      "MAE per label:\n",
      "\tacousticness        0.1939\n",
      "\tdanceability        0.0934\n",
      "\tenergy              0.1136\n",
      "\tinstrumentalness    0.1955\n",
      "\tliveness            0.0898\n",
      "\tspeechiness         0.0443\n",
      "\tvalence             0.1746\n",
      "Saved new best model\n",
      "Epoch 83:\n"
     ]
    },
    {
     "name": "stderr",
     "output_type": "stream",
     "text": [
      "Training: 100%|██████████| 165/165 [00:11<00:00, 14.32it/s, loss=0.1210, lr=5.54422411679103e-05]\n",
      "Validation: 100%|██████████| 42/42 [00:04<00:00, 10.07it/s, loss=0.1303]\n"
     ]
    },
    {
     "name": "stdout",
     "output_type": "stream",
     "text": [
      "Validation loss: 0.130271089751096\n",
      "MAE per label:\n",
      "\tacousticness        0.1978\n",
      "\tdanceability        0.0935\n",
      "\tenergy              0.1172\n",
      "\tinstrumentalness    0.1935\n",
      "\tliveness            0.0897\n",
      "\tspeechiness         0.0444\n",
      "\tvalence             0.1759\n",
      "Epoch 84:\n"
     ]
    },
    {
     "name": "stderr",
     "output_type": "stream",
     "text": [
      "Training: 100%|██████████| 165/165 [00:13<00:00, 12.28it/s, loss=0.1215, lr=4.853888729322334e-05]\n",
      "Validation: 100%|██████████| 42/42 [00:04<00:00, 10.10it/s, loss=0.1300]\n"
     ]
    },
    {
     "name": "stdout",
     "output_type": "stream",
     "text": [
      "Validation loss: 0.1300199619006543\n",
      "MAE per label:\n",
      "\tacousticness        0.1965\n",
      "\tdanceability        0.0933\n",
      "\tenergy              0.1150\n",
      "\tinstrumentalness    0.1954\n",
      "\tliveness            0.0897\n",
      "\tspeechiness         0.0444\n",
      "\tvalence             0.1757\n",
      "Epoch 85:\n"
     ]
    },
    {
     "name": "stderr",
     "output_type": "stream",
     "text": [
      "Training: 100%|██████████| 165/165 [00:13<00:00, 12.01it/s, loss=0.1211, lr=4.2081564470851536e-05]\n",
      "Validation: 100%|██████████| 42/42 [00:06<00:00,  6.12it/s, loss=0.1294]\n"
     ]
    },
    {
     "name": "stdout",
     "output_type": "stream",
     "text": [
      "Validation loss: 0.12937337905168533\n",
      "MAE per label:\n",
      "\tacousticness        0.1942\n",
      "\tdanceability        0.0932\n",
      "\tenergy              0.1143\n",
      "\tinstrumentalness    0.1949\n",
      "\tliveness            0.0898\n",
      "\tspeechiness         0.0444\n",
      "\tvalence             0.1749\n",
      "Epoch 86:\n"
     ]
    },
    {
     "name": "stderr",
     "output_type": "stream",
     "text": [
      "Training: 100%|██████████| 165/165 [00:16<00:00, 10.13it/s, loss=0.1224, lr=3.6076645298818454e-05]\n",
      "Validation: 100%|██████████| 42/42 [00:06<00:00,  6.12it/s, loss=0.1293]\n"
     ]
    },
    {
     "name": "stdout",
     "output_type": "stream",
     "text": [
      "Validation loss: 0.12928109616041183\n",
      "MAE per label:\n",
      "\tacousticness        0.1928\n",
      "\tdanceability        0.0940\n",
      "\tenergy              0.1155\n",
      "\tinstrumentalness    0.1940\n",
      "\tliveness            0.0897\n",
      "\tspeechiness         0.0446\n",
      "\tvalence             0.1744\n",
      "Saved new best model\n",
      "Epoch 87:\n"
     ]
    },
    {
     "name": "stderr",
     "output_type": "stream",
     "text": [
      "Training: 100%|██████████| 165/165 [00:16<00:00,  9.76it/s, loss=0.1220, lr=3.053005590736439e-05]\n",
      "Validation: 100%|██████████| 42/42 [00:06<00:00,  6.12it/s, loss=0.1292]\n"
     ]
    },
    {
     "name": "stdout",
     "output_type": "stream",
     "text": [
      "Validation loss: 0.12920704519464857\n",
      "MAE per label:\n",
      "\tacousticness        0.1934\n",
      "\tdanceability        0.0937\n",
      "\tenergy              0.1146\n",
      "\tinstrumentalness    0.1938\n",
      "\tliveness            0.0898\n",
      "\tspeechiness         0.0445\n",
      "\tvalence             0.1746\n"
     ]
    }
   ],
   "source": [
    "best_loss = 1\n",
    "\n",
    "for epoch in range(NUM_EPOCHS):\n",
    "    scheduler.step()\n",
    "\n",
    "    print(f\"Epoch {epoch+1}:\")\n",
    "    model.train()\n",
    "    \n",
    "    train_losses = []\n",
    "\n",
    "    with tqdm(train_dl, desc='Training') as pbar:\n",
    "        for data, label in pbar:\n",
    "            data, label = data.to(device).float(), label.to(device).float()\n",
    "            optimizer.zero_grad()\n",
    "\n",
    "            with torch.autocast(device_type=\"cuda\"):\n",
    "                pred = model(data)\n",
    "                loss = F.l1_loss(pred, label)\n",
    "\n",
    "            loss.backward()\n",
    "            optimizer.step()\n",
    "\n",
    "            train_losses.append(loss.item())\n",
    "            train_loss = np.mean(train_losses)\n",
    "\n",
    "            pbar.set_postfix({'loss': f\"{train_loss:.4f}\", 'lr': f\"{scheduler.get_last_lr()[0]}\"})\n",
    "\n",
    "    model.eval()\n",
    "\n",
    "    eval_losses = []\n",
    "    label_maes = []\n",
    "\n",
    "    with tqdm(test_dl, desc='Validation') as pbar:\n",
    "        with torch.inference_mode():\n",
    "            for data, label in pbar:\n",
    "                data, label = data.to(device).float(), label.to(device).float()\n",
    "\n",
    "                pred = model(data)\n",
    "                loss = F.l1_loss(pred, label)\n",
    "\n",
    "                eval_losses.append(loss.item())\n",
    "                eval_loss = np.mean(eval_losses)\n",
    "\n",
    "                mae = torch.mean(torch.abs(pred - label), dim=0) # for per-metric MAE\n",
    "                label_maes.append(mae.cpu().numpy())\n",
    "\n",
    "                pbar.set_postfix({'loss': f\"{eval_loss:.4f}\"})\n",
    "    \n",
    "    eval_loss = np.mean(eval_losses)\n",
    "    print(\"Validation loss:\", eval_loss)\n",
    "\n",
    "    label_mae = np.mean(label_maes, axis=0)\n",
    "    print(\"MAE per label:\")\n",
    "    for i, label in enumerate(labels):\n",
    "        print(f\"\\t{label:<20}{label_mae[i]:.4f}\")\n",
    "\n",
    "    if eval_loss < best_loss:\n",
    "        best_loss = eval_loss\n",
    "        torch.save(model.state_dict(), 'best_model.pt')\n",
    "        print('Saved new best model')"
   ]
  },
  {
   "cell_type": "code",
   "execution_count": null,
   "id": "3988bddd",
   "metadata": {},
   "outputs": [
    {
     "name": "stdout",
     "output_type": "stream",
     "text": [
      "acousticness        0.6216\n",
      "danceability        0.4705\n",
      "energy              0.7773\n",
      "instrumentalness    0.0137\n",
      "liveness            0.1431\n",
      "speechiness         0.0778\n",
      "valence             0.6460\n"
     ]
    }
   ],
   "source": [
    "model.load_state_dict(torch.load('best_model.pt'))\n",
    "\n",
    "y, sr = librosa.load(\"16 Imagine Dragons - Believer.mp3\", sr=16000)\n",
    "log_mel = vggish_input.waveform_to_examples(y, sample_rate=16000).to(device).float()\n",
    "log_mel = log_mel.squeeze(1)\n",
    "log_mel = log_mel.unsqueeze(0)\n",
    "\n",
    "model.eval()\n",
    "\n",
    "with torch.inference_mode():\n",
    "    with torch.autocast(device_type=\"cuda\"):\n",
    "        pred = model(log_mel)\n",
    "\n",
    "pred = pred[0].cpu().numpy()\n",
    "for i, label in enumerate(labels):\n",
    "    print(f\"{label:<20}{pred[i]:.4f}\")"
   ]
  }
 ],
 "metadata": {
  "kernelspec": {
   "display_name": "venv",
   "language": "python",
   "name": "python3"
  },
  "language_info": {
   "codemirror_mode": {
    "name": "ipython",
    "version": 3
   },
   "file_extension": ".py",
   "mimetype": "text/x-python",
   "name": "python",
   "nbconvert_exporter": "python",
   "pygments_lexer": "ipython3",
   "version": "3.11.13"
  }
 },
 "nbformat": 4,
 "nbformat_minor": 5
}
