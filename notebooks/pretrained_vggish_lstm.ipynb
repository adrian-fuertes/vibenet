{
 "cells": [
  {
   "cell_type": "code",
   "execution_count": 1,
   "id": "827b44bd",
   "metadata": {},
   "outputs": [
    {
     "name": "stdout",
     "output_type": "stream",
     "text": [
      "/home/jaeheonshim/music-vibes\n"
     ]
    }
   ],
   "source": [
    "%cd /home/jaeheonshim/music-vibes"
   ]
  },
  {
   "cell_type": "code",
   "execution_count": null,
   "id": "118f98c5",
   "metadata": {},
   "outputs": [],
   "source": [
    "import torch\n",
    "import numpy as np\n",
    "import pandas as pd\n",
    "from torch import nn\n",
    "from torch.optim.lr_scheduler import CosineAnnealingLR\n",
    "import torch.nn.functional as F\n",
    "from torch.utils.data import random_split, DataLoader, Subset\n",
    "import librosa\n",
    "from tqdm import tqdm\n",
    "from torchvggish import vggish_input\n",
    "\n",
    "from vibenet import labels\n",
    "from vibenet.dataset import FMAVGGishDataset\n",
    "from vibenet.models.teacher import VGGishLSTM\n",
    "from vibenet.utils import Mixup, do_mixup"
   ]
  },
  {
   "cell_type": "code",
   "execution_count": 4,
   "id": "3880cf2f",
   "metadata": {},
   "outputs": [
    {
     "name": "stdout",
     "output_type": "stream",
     "text": [
      "13122\n"
     ]
    }
   ],
   "source": [
    "dataset = FMAVGGishDataset('data/preprocessed/vggish')\n",
    "# dataset = Subset(dataset, list(range(50)))\n",
    "\n",
    "N = len(dataset)\n",
    "print(N)\n",
    "train_size = int(N * 0.8)\n",
    "train_ds, test_ds = random_split(dataset, [train_size, N - train_size], generator=torch.Generator().manual_seed(42))\n",
    "train_dl = DataLoader(train_ds, batch_size=64, shuffle=True)\n",
    "test_dl = DataLoader(test_ds, batch_size=64, shuffle=False)"
   ]
  },
  {
   "cell_type": "code",
   "execution_count": 5,
   "id": "8883301c",
   "metadata": {},
   "outputs": [],
   "source": [
    "device = 'cuda'\n",
    "\n",
    "model = VGGishLSTM()\n",
    "model = model.to(device)\n",
    "\n",
    "NUM_EPOCHS = 200\n",
    "\n",
    "optimizer = torch.optim.Adam(model.parameters(), lr=1e-3)\n",
    "scheduler = CosineAnnealingLR(optimizer, T_max=NUM_EPOCHS, eta_min=1e-5)\n",
    "mixup = Mixup(0.2)"
   ]
  },
  {
   "cell_type": "code",
   "execution_count": null,
   "id": "ee7096d3",
   "metadata": {},
   "outputs": [
    {
     "name": "stderr",
     "output_type": "stream",
     "text": [
      "/home/jaeheonshim/music-vibes/venv/lib64/python3.11/site-packages/torch/optim/lr_scheduler.py:182: UserWarning: Detected call of `lr_scheduler.step()` before `optimizer.step()`. In PyTorch 1.1.0 and later, you should call them in the opposite order: `optimizer.step()` before `lr_scheduler.step()`.  Failure to do this will result in PyTorch skipping the first value of the learning rate schedule. See more details at https://pytorch.org/docs/stable/optim.html#how-to-adjust-learning-rate\n",
      "  warnings.warn(\n"
     ]
    },
    {
     "name": "stdout",
     "output_type": "stream",
     "text": [
      "Epoch 1:\n"
     ]
    },
    {
     "name": "stderr",
     "output_type": "stream",
     "text": [
      "Training:   0%|          | 0/165 [00:00<?, ?it/s]/home/jaeheonshim/music-vibes/venv/lib64/python3.11/site-packages/torch/utils/data/_utils/collate.py:285: UserWarning: The given NumPy array is not writable, and PyTorch does not support non-writable tensors. This means writing to this tensor will result in undefined behavior. You may want to copy the array to protect its data or make it writable before converting it to a tensor. This type of warning will be suppressed for the rest of this program. (Triggered internally at /pytorch/torch/csrc/utils/tensor_numpy.cpp:203.)\n",
      "  return collate([torch.as_tensor(b) for b in batch], collate_fn_map=collate_fn_map)\n",
      "Training: 100%|██████████| 165/165 [00:25<00:00,  6.40it/s, loss=0.1921, lr=0.000999938933078422]\n",
      "Validation: 100%|██████████| 42/42 [00:04<00:00,  9.54it/s, loss=0.1751]\n"
     ]
    },
    {
     "name": "stdout",
     "output_type": "stream",
     "text": [
      "Validation loss: 0.1751357778197243\n",
      "MAE per label:\n",
      "\tacousticness        0.2671\n",
      "\tdanceability        0.1322\n",
      "\tenergy              0.1565\n",
      "\tinstrumentalness    0.2750\n",
      "\tliveness            0.1037\n",
      "\tspeechiness         0.0630\n",
      "\tvalence             0.2284\n",
      "Saved new best model\n",
      "Epoch 2:\n"
     ]
    },
    {
     "name": "stderr",
     "output_type": "stream",
     "text": [
      "Training: 100%|██████████| 165/165 [00:11<00:00, 14.19it/s, loss=0.1655, lr=0.000999755747381037]\n",
      "Validation: 100%|██████████| 42/42 [00:04<00:00, 10.05it/s, loss=0.1659]\n"
     ]
    },
    {
     "name": "stdout",
     "output_type": "stream",
     "text": [
      "Validation loss: 0.16592283937193097\n",
      "MAE per label:\n",
      "\tacousticness        0.2597\n",
      "\tdanceability        0.1224\n",
      "\tenergy              0.1605\n",
      "\tinstrumentalness    0.2479\n",
      "\tliveness            0.0963\n",
      "\tspeechiness         0.0617\n",
      "\tvalence             0.2129\n",
      "Saved new best model\n",
      "Epoch 3:\n"
     ]
    },
    {
     "name": "stderr",
     "output_type": "stream",
     "text": [
      "Training: 100%|██████████| 165/165 [00:11<00:00, 14.32it/s, loss=0.1569, lr=0.000999450488106175]\n",
      "Validation: 100%|██████████| 42/42 [00:04<00:00, 10.02it/s, loss=0.1565]\n"
     ]
    },
    {
     "name": "stdout",
     "output_type": "stream",
     "text": [
      "Validation loss: 0.15648973271960304\n",
      "MAE per label:\n",
      "\tacousticness        0.2520\n",
      "\tdanceability        0.1159\n",
      "\tenergy              0.1470\n",
      "\tinstrumentalness    0.2237\n",
      "\tliveness            0.0963\n",
      "\tspeechiness         0.0584\n",
      "\tvalence             0.2020\n",
      "Saved new best model\n",
      "Epoch 4:\n"
     ]
    },
    {
     "name": "stderr",
     "output_type": "stream",
     "text": [
      "Training: 100%|██████████| 165/165 [00:11<00:00, 14.27it/s, loss=0.1503, lr=0.0009990232305719944]\n",
      "Validation: 100%|██████████| 42/42 [00:04<00:00,  9.75it/s, loss=0.1512]\n"
     ]
    },
    {
     "name": "stdout",
     "output_type": "stream",
     "text": [
      "Validation loss: 0.15122402211030325\n",
      "MAE per label:\n",
      "\tacousticness        0.2373\n",
      "\tdanceability        0.1103\n",
      "\tenergy              0.1382\n",
      "\tinstrumentalness    0.2205\n",
      "\tliveness            0.0948\n",
      "\tspeechiness         0.0575\n",
      "\tvalence             0.1999\n",
      "Saved new best model\n",
      "Epoch 5:\n"
     ]
    },
    {
     "name": "stderr",
     "output_type": "stream",
     "text": [
      "Training: 100%|██████████| 165/165 [00:11<00:00, 14.15it/s, loss=0.1475, lr=0.0009984740801978983]\n",
      "Validation: 100%|██████████| 42/42 [00:04<00:00,  9.74it/s, loss=0.1512]\n"
     ]
    },
    {
     "name": "stdout",
     "output_type": "stream",
     "text": [
      "Validation loss: 0.15116329313743682\n",
      "MAE per label:\n",
      "\tacousticness        0.2357\n",
      "\tdanceability        0.1106\n",
      "\tenergy              0.1411\n",
      "\tinstrumentalness    0.2189\n",
      "\tliveness            0.0971\n",
      "\tspeechiness         0.0571\n",
      "\tvalence             0.1975\n",
      "Saved new best model\n",
      "Epoch 6:\n"
     ]
    },
    {
     "name": "stderr",
     "output_type": "stream",
     "text": [
      "Training: 100%|██████████| 165/165 [00:11<00:00, 14.28it/s, loss=0.1461, lr=0.0009978031724785245]\n",
      "Validation: 100%|██████████| 42/42 [00:04<00:00,  9.89it/s, loss=0.1504]\n"
     ]
    },
    {
     "name": "stdout",
     "output_type": "stream",
     "text": [
      "Validation loss: 0.1503907892675627\n",
      "MAE per label:\n",
      "\tacousticness        0.2405\n",
      "\tdanceability        0.1123\n",
      "\tenergy              0.1397\n",
      "\tinstrumentalness    0.2104\n",
      "\tliveness            0.0953\n",
      "\tspeechiness         0.0549\n",
      "\tvalence             0.1996\n",
      "Saved new best model\n",
      "Epoch 7:\n"
     ]
    },
    {
     "name": "stderr",
     "output_type": "stream",
     "text": [
      "Training: 100%|██████████| 165/165 [00:11<00:00, 14.23it/s, loss=0.1452, lr=0.000997010672950314]\n",
      "Validation: 100%|██████████| 42/42 [00:04<00:00, 10.16it/s, loss=0.1464]\n"
     ]
    },
    {
     "name": "stdout",
     "output_type": "stream",
     "text": [
      "Validation loss: 0.14644881515275865\n",
      "MAE per label:\n",
      "\tacousticness        0.2277\n",
      "\tdanceability        0.1088\n",
      "\tenergy              0.1310\n",
      "\tinstrumentalness    0.2101\n",
      "\tliveness            0.0945\n",
      "\tspeechiness         0.0571\n",
      "\tvalence             0.1958\n",
      "Saved new best model\n",
      "Epoch 8:\n"
     ]
    },
    {
     "name": "stderr",
     "output_type": "stream",
     "text": [
      "Training: 100%|██████████| 165/165 [00:11<00:00, 14.66it/s, loss=0.1443, lr=0.0009960967771506664]\n",
      "Validation: 100%|██████████| 42/42 [00:04<00:00, 10.18it/s, loss=0.1437]\n"
     ]
    },
    {
     "name": "stdout",
     "output_type": "stream",
     "text": [
      "Validation loss: 0.14371332277854285\n",
      "MAE per label:\n",
      "\tacousticness        0.2172\n",
      "\tdanceability        0.1053\n",
      "\tenergy              0.1369\n",
      "\tinstrumentalness    0.2091\n",
      "\tliveness            0.0940\n",
      "\tspeechiness         0.0541\n",
      "\tvalence             0.1894\n",
      "Saved new best model\n",
      "Epoch 9:\n"
     ]
    },
    {
     "name": "stderr",
     "output_type": "stream",
     "text": [
      "Training: 100%|██████████| 165/165 [00:11<00:00, 14.25it/s, loss=0.1415, lr=0.0009950617105696957]\n",
      "Validation: 100%|██████████| 42/42 [00:04<00:00, 10.06it/s, loss=0.1448]\n"
     ]
    },
    {
     "name": "stdout",
     "output_type": "stream",
     "text": [
      "Validation loss: 0.1447856461717969\n",
      "MAE per label:\n",
      "\tacousticness        0.2217\n",
      "\tdanceability        0.1070\n",
      "\tenergy              0.1324\n",
      "\tinstrumentalness    0.2083\n",
      "\tliveness            0.0946\n",
      "\tspeechiness         0.0576\n",
      "\tvalence             0.1919\n",
      "Epoch 10:\n"
     ]
    },
    {
     "name": "stderr",
     "output_type": "stream",
     "text": [
      "Training: 100%|██████████| 165/165 [00:11<00:00, 13.99it/s, loss=0.1412, lr=0.0009939057285945929]\n",
      "Validation: 100%|██████████| 42/42 [00:04<00:00,  9.82it/s, loss=0.1420]\n"
     ]
    },
    {
     "name": "stdout",
     "output_type": "stream",
     "text": [
      "Validation loss: 0.14199090216841018\n",
      "MAE per label:\n",
      "\tacousticness        0.2119\n",
      "\tdanceability        0.1073\n",
      "\tenergy              0.1295\n",
      "\tinstrumentalness    0.2069\n",
      "\tliveness            0.0956\n",
      "\tspeechiness         0.0558\n",
      "\tvalence             0.1869\n",
      "Saved new best model\n",
      "Epoch 11:\n"
     ]
    },
    {
     "name": "stderr",
     "output_type": "stream",
     "text": [
      "Training: 100%|██████████| 165/165 [00:11<00:00, 14.16it/s, loss=0.1397, lr=0.0009926291164466126]\n",
      "Validation: 100%|██████████| 42/42 [00:04<00:00,  9.92it/s, loss=0.1423]\n"
     ]
    },
    {
     "name": "stdout",
     "output_type": "stream",
     "text": [
      "Validation loss: 0.14226612200339636\n",
      "MAE per label:\n",
      "\tacousticness        0.2099\n",
      "\tdanceability        0.1071\n",
      "\tenergy              0.1311\n",
      "\tinstrumentalness    0.2128\n",
      "\tliveness            0.0938\n",
      "\tspeechiness         0.0539\n",
      "\tvalence             0.1873\n",
      "Epoch 12:\n"
     ]
    },
    {
     "name": "stderr",
     "output_type": "stream",
     "text": [
      "Training: 100%|██████████| 165/165 [00:11<00:00, 14.11it/s, loss=0.1382, lr=0.0009912321891107005]\n",
      "Validation: 100%|██████████| 42/42 [00:04<00:00, 10.00it/s, loss=0.1403]\n"
     ]
    },
    {
     "name": "stdout",
     "output_type": "stream",
     "text": [
      "Validation loss: 0.1403114398320516\n",
      "MAE per label:\n",
      "\tacousticness        0.2102\n",
      "\tdanceability        0.1053\n",
      "\tenergy              0.1283\n",
      "\tinstrumentalness    0.2071\n",
      "\tliveness            0.0939\n",
      "\tspeechiness         0.0549\n",
      "\tvalence             0.1826\n",
      "Saved new best model\n",
      "Epoch 13:\n"
     ]
    },
    {
     "name": "stderr",
     "output_type": "stream",
     "text": [
      "Training: 100%|██████████| 165/165 [00:11<00:00, 14.15it/s, loss=0.1393, lr=0.0009897152912577737]\n",
      "Validation: 100%|██████████| 42/42 [00:04<00:00, 10.01it/s, loss=0.1394]\n"
     ]
    },
    {
     "name": "stdout",
     "output_type": "stream",
     "text": [
      "Validation loss: 0.13944441789672488\n",
      "MAE per label:\n",
      "\tacousticness        0.2070\n",
      "\tdanceability        0.1070\n",
      "\tenergy              0.1266\n",
      "\tinstrumentalness    0.2037\n",
      "\tliveness            0.0936\n",
      "\tspeechiness         0.0538\n",
      "\tvalence             0.1845\n",
      "Saved new best model\n",
      "Epoch 14:\n"
     ]
    },
    {
     "name": "stderr",
     "output_type": "stream",
     "text": [
      "Training: 100%|██████████| 165/165 [00:11<00:00, 13.99it/s, loss=0.1382, lr=0.0009880787971596797]\n",
      "Validation: 100%|██████████| 42/42 [00:04<00:00, 10.10it/s, loss=0.1420]\n"
     ]
    },
    {
     "name": "stdout",
     "output_type": "stream",
     "text": [
      "Validation loss: 0.14200138584488914\n",
      "MAE per label:\n",
      "\tacousticness        0.2149\n",
      "\tdanceability        0.1070\n",
      "\tenergy              0.1283\n",
      "\tinstrumentalness    0.2122\n",
      "\tliveness            0.0939\n",
      "\tspeechiness         0.0533\n",
      "\tvalence             0.1844\n",
      "Epoch 15:\n"
     ]
    },
    {
     "name": "stderr",
     "output_type": "stream",
     "text": [
      "Training: 100%|██████████| 165/165 [00:11<00:00, 14.33it/s, loss=0.1377, lr=0.0009863231105968495]\n",
      "Validation: 100%|██████████| 42/42 [00:04<00:00, 10.08it/s, loss=0.1392]\n"
     ]
    },
    {
     "name": "stdout",
     "output_type": "stream",
     "text": [
      "Validation loss: 0.1391877168346019\n",
      "MAE per label:\n",
      "\tacousticness        0.2091\n",
      "\tdanceability        0.1079\n",
      "\tenergy              0.1244\n",
      "\tinstrumentalness    0.2016\n",
      "\tliveness            0.0933\n",
      "\tspeechiness         0.0527\n",
      "\tvalence             0.1854\n",
      "Saved new best model\n",
      "Epoch 16:\n"
     ]
    },
    {
     "name": "stderr",
     "output_type": "stream",
     "text": [
      "Training: 100%|██████████| 165/165 [00:11<00:00, 14.46it/s, loss=0.1368, lr=0.000984448664758672]\n",
      "Validation: 100%|██████████| 42/42 [00:04<00:00,  9.95it/s, loss=0.1391]\n"
     ]
    },
    {
     "name": "stdout",
     "output_type": "stream",
     "text": [
      "Validation loss: 0.13911519518920354\n",
      "MAE per label:\n",
      "\tacousticness        0.2076\n",
      "\tdanceability        0.1048\n",
      "\tenergy              0.1253\n",
      "\tinstrumentalness    0.2034\n",
      "\tliveness            0.0939\n",
      "\tspeechiness         0.0525\n",
      "\tvalence             0.1863\n",
      "Saved new best model\n",
      "Epoch 17:\n"
     ]
    },
    {
     "name": "stderr",
     "output_type": "stream",
     "text": [
      "Training: 100%|██████████| 165/165 [00:11<00:00, 14.32it/s, loss=0.1367, lr=0.0009824559221366096]\n",
      "Validation: 100%|██████████| 42/42 [00:04<00:00, 10.10it/s, loss=0.1381]\n"
     ]
    },
    {
     "name": "stdout",
     "output_type": "stream",
     "text": [
      "Validation loss: 0.13812380461465745\n",
      "MAE per label:\n",
      "\tacousticness        0.2040\n",
      "\tdanceability        0.1046\n",
      "\tenergy              0.1271\n",
      "\tinstrumentalness    0.2022\n",
      "\tliveness            0.0924\n",
      "\tspeechiness         0.0539\n",
      "\tvalence             0.1827\n",
      "Saved new best model\n",
      "Epoch 18:\n"
     ]
    },
    {
     "name": "stderr",
     "output_type": "stream",
     "text": [
      "Training: 100%|██████████| 165/165 [00:11<00:00, 14.32it/s, loss=0.1350, lr=0.0009803453744100864]\n",
      "Validation: 100%|██████████| 42/42 [00:04<00:00, 10.05it/s, loss=0.1400]\n"
     ]
    },
    {
     "name": "stdout",
     "output_type": "stream",
     "text": [
      "Validation loss: 0.13995802260580517\n",
      "MAE per label:\n",
      "\tacousticness        0.2059\n",
      "\tdanceability        0.1104\n",
      "\tenergy              0.1264\n",
      "\tinstrumentalness    0.2068\n",
      "\tliveness            0.0936\n",
      "\tspeechiness         0.0527\n",
      "\tvalence             0.1839\n",
      "Epoch 19:\n"
     ]
    },
    {
     "name": "stderr",
     "output_type": "stream",
     "text": [
      "Training: 100%|██████████| 165/165 [00:11<00:00, 14.24it/s, loss=0.1351, lr=0.0009781175423251728]\n",
      "Validation: 100%|██████████| 42/42 [00:04<00:00,  9.99it/s, loss=0.1410]\n"
     ]
    },
    {
     "name": "stdout",
     "output_type": "stream",
     "text": [
      "Validation loss: 0.14096161616700037\n",
      "MAE per label:\n",
      "\tacousticness        0.2183\n",
      "\tdanceability        0.1063\n",
      "\tenergy              0.1256\n",
      "\tinstrumentalness    0.2104\n",
      "\tliveness            0.0929\n",
      "\tspeechiness         0.0525\n",
      "\tvalence             0.1807\n",
      "Epoch 20:\n"
     ]
    },
    {
     "name": "stderr",
     "output_type": "stream",
     "text": [
      "Training: 100%|██████████| 165/165 [00:11<00:00, 14.29it/s, loss=0.1342, lr=0.0009757729755661004]\n",
      "Validation: 100%|██████████| 42/42 [00:04<00:00, 10.03it/s, loss=0.1384]\n"
     ]
    },
    {
     "name": "stdout",
     "output_type": "stream",
     "text": [
      "Validation loss: 0.1383972785302571\n",
      "MAE per label:\n",
      "\tacousticness        0.2126\n",
      "\tdanceability        0.1068\n",
      "\tenergy              0.1233\n",
      "\tinstrumentalness    0.2008\n",
      "\tliveness            0.0940\n",
      "\tspeechiness         0.0522\n",
      "\tvalence             0.1790\n",
      "Epoch 21:\n"
     ]
    },
    {
     "name": "stderr",
     "output_type": "stream",
     "text": [
      "Training: 100%|██████████| 165/165 [00:11<00:00, 14.57it/s, loss=0.1341, lr=0.0009733122526196342]\n",
      "Validation: 100%|██████████| 42/42 [00:04<00:00, 10.01it/s, loss=0.1375]\n"
     ]
    },
    {
     "name": "stdout",
     "output_type": "stream",
     "text": [
      "Validation loss: 0.1374866980172339\n",
      "MAE per label:\n",
      "\tacousticness        0.2025\n",
      "\tdanceability        0.1052\n",
      "\tenergy              0.1234\n",
      "\tinstrumentalness    0.2009\n",
      "\tliveness            0.0942\n",
      "\tspeechiness         0.0531\n",
      "\tvalence             0.1830\n",
      "Saved new best model\n",
      "Epoch 22:\n"
     ]
    },
    {
     "name": "stderr",
     "output_type": "stream",
     "text": [
      "Training: 100%|██████████| 165/165 [00:11<00:00, 14.30it/s, loss=0.1322, lr=0.000970735980632341]\n",
      "Validation: 100%|██████████| 42/42 [00:04<00:00, 10.11it/s, loss=0.1365]\n"
     ]
    },
    {
     "name": "stdout",
     "output_type": "stream",
     "text": [
      "Validation loss: 0.13651976769878751\n",
      "MAE per label:\n",
      "\tacousticness        0.2023\n",
      "\tdanceability        0.1035\n",
      "\tenergy              0.1256\n",
      "\tinstrumentalness    0.1988\n",
      "\tliveness            0.0931\n",
      "\tspeechiness         0.0536\n",
      "\tvalence             0.1789\n",
      "Saved new best model\n",
      "Epoch 23:\n"
     ]
    },
    {
     "name": "stderr",
     "output_type": "stream",
     "text": [
      "Training: 100%|██████████| 165/165 [00:11<00:00, 14.34it/s, loss=0.1330, lr=0.0009680447952607838]\n",
      "Validation: 100%|██████████| 42/42 [00:04<00:00, 10.04it/s, loss=0.1385]\n"
     ]
    },
    {
     "name": "stdout",
     "output_type": "stream",
     "text": [
      "Validation loss: 0.13849144925673804\n",
      "MAE per label:\n",
      "\tacousticness        0.2083\n",
      "\tdanceability        0.1036\n",
      "\tenergy              0.1271\n",
      "\tinstrumentalness    0.2043\n",
      "\tliveness            0.0932\n",
      "\tspeechiness         0.0525\n",
      "\tvalence             0.1804\n",
      "Epoch 24:\n"
     ]
    },
    {
     "name": "stderr",
     "output_type": "stream",
     "text": [
      "Training: 100%|██████████| 165/165 [00:11<00:00, 14.36it/s, loss=0.1326, lr=0.0009652393605146839]\n",
      "Validation: 100%|██████████| 42/42 [00:04<00:00, 10.05it/s, loss=0.1369]\n"
     ]
    },
    {
     "name": "stdout",
     "output_type": "stream",
     "text": [
      "Validation loss: 0.1368947055722986\n",
      "MAE per label:\n",
      "\tacousticness        0.2086\n",
      "\tdanceability        0.1041\n",
      "\tenergy              0.1232\n",
      "\tinstrumentalness    0.1983\n",
      "\tliveness            0.0931\n",
      "\tspeechiness         0.0524\n",
      "\tvalence             0.1785\n",
      "Epoch 25:\n"
     ]
    },
    {
     "name": "stderr",
     "output_type": "stream",
     "text": [
      "Training: 100%|██████████| 165/165 [00:11<00:00, 14.43it/s, loss=0.1319, lr=0.0009623203685930864]\n",
      "Validation: 100%|██████████| 42/42 [00:04<00:00, 10.39it/s, loss=0.1361]\n"
     ]
    },
    {
     "name": "stdout",
     "output_type": "stream",
     "text": [
      "Validation loss: 0.13611660063976333\n",
      "MAE per label:\n",
      "\tacousticness        0.2047\n",
      "\tdanceability        0.1027\n",
      "\tenergy              0.1235\n",
      "\tinstrumentalness    0.1966\n",
      "\tliveness            0.0931\n",
      "\tspeechiness         0.0520\n",
      "\tvalence             0.1803\n",
      "Saved new best model\n",
      "Epoch 26:\n"
     ]
    },
    {
     "name": "stderr",
     "output_type": "stream",
     "text": [
      "Training: 100%|██████████| 165/165 [00:11<00:00, 14.60it/s, loss=0.1322, lr=0.00095928853971357]\n",
      "Validation: 100%|██████████| 42/42 [00:04<00:00, 10.26it/s, loss=0.1367]\n"
     ]
    },
    {
     "name": "stdout",
     "output_type": "stream",
     "text": [
      "Validation loss: 0.13670263989340692\n",
      "MAE per label:\n",
      "\tacousticness        0.2021\n",
      "\tdanceability        0.1025\n",
      "\tenergy              0.1240\n",
      "\tinstrumentalness    0.2017\n",
      "\tliveness            0.0935\n",
      "\tspeechiness         0.0522\n",
      "\tvalence             0.1810\n",
      "Epoch 27:\n"
     ]
    },
    {
     "name": "stderr",
     "output_type": "stream",
     "text": [
      "Training: 100%|██████████| 165/165 [00:11<00:00, 14.33it/s, loss=0.1309, lr=0.0009561446219345448]\n",
      "Validation: 100%|██████████| 42/42 [00:04<00:00, 10.06it/s, loss=0.1367]\n"
     ]
    },
    {
     "name": "stdout",
     "output_type": "stream",
     "text": [
      "Validation loss: 0.13673764946205275\n",
      "MAE per label:\n",
      "\tacousticness        0.2060\n",
      "\tdanceability        0.1027\n",
      "\tenergy              0.1263\n",
      "\tinstrumentalness    0.1988\n",
      "\tliveness            0.0927\n",
      "\tspeechiness         0.0523\n",
      "\tvalence             0.1783\n",
      "Epoch 28:\n"
     ]
    },
    {
     "name": "stderr",
     "output_type": "stream",
     "text": [
      "Training: 100%|██████████| 165/165 [00:11<00:00, 14.52it/s, loss=0.1335, lr=0.0009528893909706791]\n",
      "Validation: 100%|██████████| 42/42 [00:04<00:00, 10.11it/s, loss=0.1379]\n"
     ]
    },
    {
     "name": "stdout",
     "output_type": "stream",
     "text": [
      "Validation loss: 0.1378722403730665\n",
      "MAE per label:\n",
      "\tacousticness        0.2057\n",
      "\tdanceability        0.1051\n",
      "\tenergy              0.1241\n",
      "\tinstrumentalness    0.1993\n",
      "\tliveness            0.0929\n",
      "\tspeechiness         0.0510\n",
      "\tvalence             0.1871\n",
      "Epoch 29:\n"
     ]
    },
    {
     "name": "stderr",
     "output_type": "stream",
     "text": [
      "Training: 100%|██████████| 165/165 [00:11<00:00, 14.39it/s, loss=0.1341, lr=0.0009495236500015041]\n",
      "Validation: 100%|██████████| 42/42 [00:04<00:00, 10.08it/s, loss=0.1358]\n"
     ]
    },
    {
     "name": "stdout",
     "output_type": "stream",
     "text": [
      "Validation loss: 0.13578155086863608\n",
      "MAE per label:\n",
      "\tacousticness        0.2044\n",
      "\tdanceability        0.1015\n",
      "\tenergy              0.1249\n",
      "\tinstrumentalness    0.1958\n",
      "\tliveness            0.0931\n",
      "\tspeechiness         0.0520\n",
      "\tvalence             0.1787\n",
      "Saved new best model\n",
      "Epoch 30:\n"
     ]
    },
    {
     "name": "stderr",
     "output_type": "stream",
     "text": [
      "Training: 100%|██████████| 165/165 [00:11<00:00, 14.47it/s, loss=0.1315, lr=0.0009460482294732414]\n",
      "Validation: 100%|██████████| 42/42 [00:04<00:00, 10.08it/s, loss=0.1359]\n"
     ]
    },
    {
     "name": "stdout",
     "output_type": "stream",
     "text": [
      "Validation loss: 0.13592888326162383\n",
      "MAE per label:\n",
      "\tacousticness        0.2035\n",
      "\tdanceability        0.1038\n",
      "\tenergy              0.1223\n",
      "\tinstrumentalness    0.1975\n",
      "\tliveness            0.0935\n",
      "\tspeechiness         0.0525\n",
      "\tvalence             0.1784\n",
      "Epoch 31:\n"
     ]
    },
    {
     "name": "stderr",
     "output_type": "stream",
     "text": [
      "Training: 100%|██████████| 165/165 [00:11<00:00, 14.56it/s, loss=0.1313, lr=0.0009424639868939027]\n",
      "Validation: 100%|██████████| 42/42 [00:04<00:00, 10.12it/s, loss=0.1360]\n"
     ]
    },
    {
     "name": "stdout",
     "output_type": "stream",
     "text": [
      "Validation loss: 0.13599198613138425\n",
      "MAE per label:\n",
      "\tacousticness        0.1999\n",
      "\tdanceability        0.1014\n",
      "\tenergy              0.1258\n",
      "\tinstrumentalness    0.2018\n",
      "\tliveness            0.0926\n",
      "\tspeechiness         0.0532\n",
      "\tvalence             0.1771\n",
      "Epoch 32:\n"
     ]
    },
    {
     "name": "stderr",
     "output_type": "stream",
     "text": [
      "Training: 100%|██████████| 165/165 [00:11<00:00, 14.39it/s, loss=0.1315, lr=0.0009387718066217117]\n",
      "Validation: 100%|██████████| 42/42 [00:04<00:00, 10.08it/s, loss=0.1357]\n"
     ]
    },
    {
     "name": "stdout",
     "output_type": "stream",
     "text": [
      "Validation loss: 0.13569964752310798\n",
      "MAE per label:\n",
      "\tacousticness        0.2004\n",
      "\tdanceability        0.1035\n",
      "\tenergy              0.1218\n",
      "\tinstrumentalness    0.1985\n",
      "\tliveness            0.0937\n",
      "\tspeechiness         0.0515\n",
      "\tvalence             0.1805\n",
      "Saved new best model\n",
      "Epoch 33:\n"
     ]
    },
    {
     "name": "stderr",
     "output_type": "stream",
     "text": [
      "Training: 100%|██████████| 165/165 [00:11<00:00, 14.80it/s, loss=0.1291, lr=0.000934972599646904]\n",
      "Validation: 100%|██████████| 42/42 [00:04<00:00,  9.99it/s, loss=0.1351]\n"
     ]
    },
    {
     "name": "stdout",
     "output_type": "stream",
     "text": [
      "Validation loss: 0.13512074432912327\n",
      "MAE per label:\n",
      "\tacousticness        0.1993\n",
      "\tdanceability        0.1016\n",
      "\tenergy              0.1217\n",
      "\tinstrumentalness    0.1970\n",
      "\tliveness            0.0934\n",
      "\tspeechiness         0.0525\n",
      "\tvalence             0.1804\n",
      "Saved new best model\n",
      "Epoch 34:\n"
     ]
    },
    {
     "name": "stderr",
     "output_type": "stream",
     "text": [
      "Training: 100%|██████████| 165/165 [00:11<00:00, 14.22it/s, loss=0.1297, lr=0.0009310673033669515]\n",
      "Validation: 100%|██████████| 42/42 [00:04<00:00, 10.04it/s, loss=0.1344]\n"
     ]
    },
    {
     "name": "stdout",
     "output_type": "stream",
     "text": [
      "Validation loss: 0.1343592797361669\n",
      "MAE per label:\n",
      "\tacousticness        0.1989\n",
      "\tdanceability        0.1021\n",
      "\tenergy              0.1217\n",
      "\tinstrumentalness    0.1941\n",
      "\tliveness            0.0925\n",
      "\tspeechiness         0.0510\n",
      "\tvalence             0.1801\n",
      "Saved new best model\n",
      "Epoch 35:\n"
     ]
    },
    {
     "name": "stderr",
     "output_type": "stream",
     "text": [
      "Training: 100%|██████████| 165/165 [00:29<00:00,  5.58it/s, loss=0.1302, lr=0.0009270568813552751]\n",
      "Validation: 100%|██████████| 42/42 [00:20<00:00,  2.02it/s, loss=0.1360]\n"
     ]
    },
    {
     "name": "stdout",
     "output_type": "stream",
     "text": [
      "Validation loss: 0.13602009876852944\n",
      "MAE per label:\n",
      "\tacousticness        0.2079\n",
      "\tdanceability        0.1009\n",
      "\tenergy              0.1234\n",
      "\tinstrumentalness    0.1945\n",
      "\tliveness            0.0929\n",
      "\tspeechiness         0.0510\n",
      "\tvalence             0.1817\n",
      "Epoch 36:\n"
     ]
    },
    {
     "name": "stderr",
     "output_type": "stream",
     "text": [
      "Training: 100%|██████████| 165/165 [00:11<00:00, 14.42it/s, loss=0.1307, lr=0.0009229423231234969]\n",
      "Validation: 100%|██████████| 42/42 [00:04<00:00, 10.10it/s, loss=0.1349]\n"
     ]
    },
    {
     "name": "stdout",
     "output_type": "stream",
     "text": [
      "Validation loss: 0.13485559608255113\n",
      "MAE per label:\n",
      "\tacousticness        0.1981\n",
      "\tdanceability        0.1026\n",
      "\tenergy              0.1220\n",
      "\tinstrumentalness    0.1978\n",
      "\tliveness            0.0930\n",
      "\tspeechiness         0.0525\n",
      "\tvalence             0.1781\n",
      "Epoch 37:\n"
     ]
    },
    {
     "name": "stderr",
     "output_type": "stream",
     "text": [
      "Training: 100%|██████████| 165/165 [00:11<00:00, 14.46it/s, loss=0.1280, lr=0.0009187246438772933]\n",
      "Validation: 100%|██████████| 42/42 [00:04<00:00, 10.04it/s, loss=0.1347]\n"
     ]
    },
    {
     "name": "stdout",
     "output_type": "stream",
     "text": [
      "Validation loss: 0.13468844354862258\n",
      "MAE per label:\n",
      "\tacousticness        0.2001\n",
      "\tdanceability        0.1020\n",
      "\tenergy              0.1195\n",
      "\tinstrumentalness    0.1961\n",
      "\tliveness            0.0924\n",
      "\tspeechiness         0.0510\n",
      "\tvalence             0.1817\n",
      "Epoch 38:\n"
     ]
    },
    {
     "name": "stderr",
     "output_type": "stream",
     "text": [
      "Training: 100%|██████████| 165/165 [00:11<00:00, 14.42it/s, loss=0.1301, lr=0.0009144048842659075]\n",
      "Validation: 100%|██████████| 42/42 [00:04<00:00, 10.09it/s, loss=0.1344]\n"
     ]
    },
    {
     "name": "stdout",
     "output_type": "stream",
     "text": [
      "Validation loss: 0.13436609045380637\n",
      "MAE per label:\n",
      "\tacousticness        0.1978\n",
      "\tdanceability        0.1014\n",
      "\tenergy              0.1192\n",
      "\tinstrumentalness    0.1989\n",
      "\tliveness            0.0927\n",
      "\tspeechiness         0.0510\n",
      "\tvalence             0.1796\n",
      "Epoch 39:\n"
     ]
    },
    {
     "name": "stderr",
     "output_type": "stream",
     "text": [
      "Training: 100%|██████████| 165/165 [00:11<00:00, 14.45it/s, loss=0.1320, lr=0.0009099841101253861]\n",
      "Validation: 100%|██████████| 42/42 [00:04<00:00,  9.85it/s, loss=0.1365]\n"
     ]
    },
    {
     "name": "stdout",
     "output_type": "stream",
     "text": [
      "Validation loss: 0.13653446751691045\n",
      "MAE per label:\n",
      "\tacousticness        0.2034\n",
      "\tdanceability        0.1038\n",
      "\tenergy              0.1230\n",
      "\tinstrumentalness    0.2015\n",
      "\tliveness            0.0925\n",
      "\tspeechiness         0.0528\n",
      "\tvalence             0.1787\n",
      "Epoch 40:\n"
     ]
    },
    {
     "name": "stderr",
     "output_type": "stream",
     "text": [
      "Training: 100%|██████████| 165/165 [00:40<00:00,  4.07it/s, loss=0.1286, lr=0.0009054634122155986]\n",
      "Validation: 100%|██████████| 42/42 [00:04<00:00, 10.10it/s, loss=0.1353]\n"
     ]
    },
    {
     "name": "stdout",
     "output_type": "stream",
     "text": [
      "Validation loss: 0.13532371109440214\n",
      "MAE per label:\n",
      "\tacousticness        0.1991\n",
      "\tdanceability        0.1033\n",
      "\tenergy              0.1205\n",
      "\tinstrumentalness    0.2023\n",
      "\tliveness            0.0928\n",
      "\tspeechiness         0.0524\n",
      "\tvalence             0.1769\n",
      "Epoch 41:\n"
     ]
    },
    {
     "name": "stderr",
     "output_type": "stream",
     "text": [
      "Training: 100%|██████████| 165/165 [00:28<00:00,  5.81it/s, loss=0.1276, lr=0.0009008439059511095]\n",
      "Validation: 100%|██████████| 42/42 [00:16<00:00,  2.57it/s, loss=0.1338]\n"
     ]
    },
    {
     "name": "stdout",
     "output_type": "stream",
     "text": [
      "Validation loss: 0.13376101443455332\n",
      "MAE per label:\n",
      "\tacousticness        0.1979\n",
      "\tdanceability        0.1002\n",
      "\tenergy              0.1208\n",
      "\tinstrumentalness    0.1959\n",
      "\tliveness            0.0924\n",
      "\tspeechiness         0.0510\n",
      "\tvalence             0.1781\n",
      "Saved new best model\n",
      "Epoch 42:\n"
     ]
    },
    {
     "name": "stderr",
     "output_type": "stream",
     "text": [
      "Training: 100%|██████████| 165/165 [02:11<00:00,  1.25it/s, loss=0.1281, lr=0.0008961267311259662]\n",
      "Validation: 100%|██████████| 42/42 [00:31<00:00,  1.31it/s, loss=0.1338]\n"
     ]
    },
    {
     "name": "stdout",
     "output_type": "stream",
     "text": [
      "Validation loss: 0.13378590292164258\n",
      "MAE per label:\n",
      "\tacousticness        0.1963\n",
      "\tdanceability        0.1007\n",
      "\tenergy              0.1206\n",
      "\tinstrumentalness    0.1961\n",
      "\tliveness            0.0925\n",
      "\tspeechiness         0.0518\n",
      "\tvalence             0.1785\n",
      "Epoch 43:\n"
     ]
    },
    {
     "name": "stderr",
     "output_type": "stream",
     "text": [
      "Training: 100%|██████████| 165/165 [00:44<00:00,  3.71it/s, loss=0.1293, lr=0.0008913130516324728]\n",
      "Validation: 100%|██████████| 42/42 [00:04<00:00,  9.59it/s, loss=0.1341]\n"
     ]
    },
    {
     "name": "stdout",
     "output_type": "stream",
     "text": [
      "Validation loss: 0.13408838123792693\n",
      "MAE per label:\n",
      "\tacousticness        0.1965\n",
      "\tdanceability        0.1009\n",
      "\tenergy              0.1215\n",
      "\tinstrumentalness    0.1985\n",
      "\tliveness            0.0931\n",
      "\tspeechiness         0.0513\n",
      "\tvalence             0.1768\n",
      "Epoch 44:\n"
     ]
    },
    {
     "name": "stderr",
     "output_type": "stream",
     "text": [
      "Training: 100%|██████████| 165/165 [00:11<00:00, 14.33it/s, loss=0.1275, lr=0.0008864040551740152]\n",
      "Validation: 100%|██████████| 42/42 [00:04<00:00, 10.01it/s, loss=0.1343]\n"
     ]
    },
    {
     "name": "stdout",
     "output_type": "stream",
     "text": [
      "Validation loss: 0.13427860520425297\n",
      "MAE per label:\n",
      "\tacousticness        0.1993\n",
      "\tdanceability        0.1025\n",
      "\tenergy              0.1202\n",
      "\tinstrumentalness    0.1938\n",
      "\tliveness            0.0927\n",
      "\tspeechiness         0.0506\n",
      "\tvalence             0.1808\n",
      "Epoch 45:\n"
     ]
    },
    {
     "name": "stderr",
     "output_type": "stream",
     "text": [
      "Training: 100%|██████████| 165/165 [00:11<00:00, 14.42it/s, loss=0.1282, lr=0.000881400952972015]\n",
      "Validation: 100%|██████████| 42/42 [00:04<00:00, 10.05it/s, loss=0.1335]\n"
     ]
    },
    {
     "name": "stdout",
     "output_type": "stream",
     "text": [
      "Validation loss: 0.13350777753761836\n",
      "MAE per label:\n",
      "\tacousticness        0.1973\n",
      "\tdanceability        0.1024\n",
      "\tenergy              0.1193\n",
      "\tinstrumentalness    0.1953\n",
      "\tliveness            0.0927\n",
      "\tspeechiness         0.0510\n",
      "\tvalence             0.1765\n",
      "Saved new best model\n",
      "Epoch 46:\n"
     ]
    },
    {
     "name": "stderr",
     "output_type": "stream",
     "text": [
      "Training: 100%|██████████| 165/165 [00:11<00:00, 14.38it/s, loss=0.1266, lr=0.0008763049794670771]\n",
      "Validation: 100%|██████████| 42/42 [00:04<00:00, 10.05it/s, loss=0.1339]\n"
     ]
    },
    {
     "name": "stdout",
     "output_type": "stream",
     "text": [
      "Validation loss: 0.13391408998341786\n",
      "MAE per label:\n",
      "\tacousticness        0.1959\n",
      "\tdanceability        0.1001\n",
      "\tenergy              0.1210\n",
      "\tinstrumentalness    0.1998\n",
      "\tliveness            0.0926\n",
      "\tspeechiness         0.0505\n",
      "\tvalence             0.1776\n",
      "Epoch 47:\n"
     ]
    },
    {
     "name": "stderr",
     "output_type": "stream",
     "text": [
      "Training: 100%|██████████| 165/165 [00:11<00:00, 14.30it/s, loss=0.1264, lr=0.0008711173920144113]\n",
      "Validation: 100%|██████████| 42/42 [00:04<00:00, 10.04it/s, loss=0.1333]\n"
     ]
    },
    {
     "name": "stdout",
     "output_type": "stream",
     "text": [
      "Validation loss: 0.13334922900512106\n",
      "MAE per label:\n",
      "\tacousticness        0.1980\n",
      "\tdanceability        0.1011\n",
      "\tenergy              0.1193\n",
      "\tinstrumentalness    0.1926\n",
      "\tliveness            0.0929\n",
      "\tspeechiness         0.0509\n",
      "\tvalence             0.1785\n",
      "Saved new best model\n",
      "Epoch 48:\n"
     ]
    },
    {
     "name": "stderr",
     "output_type": "stream",
     "text": [
      "Training: 100%|██████████| 165/165 [00:11<00:00, 14.41it/s, loss=0.1277, lr=0.0008658394705735983]\n",
      "Validation: 100%|██████████| 42/42 [00:04<00:00, 10.09it/s, loss=0.1343]\n"
     ]
    },
    {
     "name": "stdout",
     "output_type": "stream",
     "text": [
      "Validation loss: 0.13430901687769664\n",
      "MAE per label:\n",
      "\tacousticness        0.1966\n",
      "\tdanceability        0.1038\n",
      "\tenergy              0.1222\n",
      "\tinstrumentalness    0.1937\n",
      "\tliveness            0.0925\n",
      "\tspeechiness         0.0503\n",
      "\tvalence             0.1810\n",
      "Epoch 49:\n"
     ]
    },
    {
     "name": "stderr",
     "output_type": "stream",
     "text": [
      "Training: 100%|██████████| 165/165 [00:11<00:00, 14.55it/s, loss=0.1269, lr=0.0008604725173927781]\n",
      "Validation: 100%|██████████| 42/42 [00:04<00:00, 10.37it/s, loss=0.1325]\n"
     ]
    },
    {
     "name": "stdout",
     "output_type": "stream",
     "text": [
      "Validation loss: 0.13247257790395192\n",
      "MAE per label:\n",
      "\tacousticness        0.1921\n",
      "\tdanceability        0.1007\n",
      "\tenergy              0.1213\n",
      "\tinstrumentalness    0.1920\n",
      "\tliveness            0.0928\n",
      "\tspeechiness         0.0501\n",
      "\tvalence             0.1783\n",
      "Saved new best model\n",
      "Epoch 50:\n"
     ]
    },
    {
     "name": "stderr",
     "output_type": "stream",
     "text": [
      "Training: 100%|██████████| 165/165 [00:11<00:00, 14.46it/s, loss=0.1263, lr=0.0008550178566873405]\n",
      "Validation: 100%|██████████| 42/42 [00:04<00:00, 10.11it/s, loss=0.1326]\n"
     ]
    },
    {
     "name": "stdout",
     "output_type": "stream",
     "text": [
      "Validation loss: 0.1325515198210875\n",
      "MAE per label:\n",
      "\tacousticness        0.1949\n",
      "\tdanceability        0.1004\n",
      "\tenergy              0.1200\n",
      "\tinstrumentalness    0.1927\n",
      "\tliveness            0.0926\n",
      "\tspeechiness         0.0494\n",
      "\tvalence             0.1779\n",
      "Epoch 51:\n"
     ]
    },
    {
     "name": "stderr",
     "output_type": "stream",
     "text": [
      "Training: 100%|██████████| 165/165 [00:11<00:00, 14.28it/s, loss=0.1255, lr=0.0008494768343131951]\n",
      "Validation: 100%|██████████| 42/42 [00:04<00:00, 10.04it/s, loss=0.1322]\n"
     ]
    },
    {
     "name": "stdout",
     "output_type": "stream",
     "text": [
      "Validation loss: 0.13220453759034476\n",
      "MAE per label:\n",
      "\tacousticness        0.1949\n",
      "\tdanceability        0.0993\n",
      "\tenergy              0.1191\n",
      "\tinstrumentalness    0.1916\n",
      "\tliveness            0.0930\n",
      "\tspeechiness         0.0513\n",
      "\tvalence             0.1764\n",
      "Saved new best model\n",
      "Epoch 52:\n"
     ]
    },
    {
     "name": "stderr",
     "output_type": "stream",
     "text": [
      "Training: 100%|██████████| 165/165 [00:11<00:00, 14.29it/s, loss=0.1259, lr=0.0008438508174347005]\n",
      "Validation: 100%|██████████| 42/42 [00:04<00:00, 10.13it/s, loss=0.1333]\n"
     ]
    },
    {
     "name": "stdout",
     "output_type": "stream",
     "text": [
      "Validation loss: 0.13329118649874414\n",
      "MAE per label:\n",
      "\tacousticness        0.1999\n",
      "\tdanceability        0.1017\n",
      "\tenergy              0.1205\n",
      "\tinstrumentalness    0.1936\n",
      "\tliveness            0.0925\n",
      "\tspeechiness         0.0504\n",
      "\tvalence             0.1744\n",
      "Epoch 53:\n"
     ]
    },
    {
     "name": "stderr",
     "output_type": "stream",
     "text": [
      "Training: 100%|██████████| 165/165 [00:11<00:00, 14.59it/s, loss=0.1262, lr=0.0008381411941873374]\n",
      "Validation: 100%|██████████| 42/42 [00:04<00:00, 10.04it/s, loss=0.1329]\n"
     ]
    },
    {
     "name": "stdout",
     "output_type": "stream",
     "text": [
      "Validation loss: 0.13287096328678585\n",
      "MAE per label:\n",
      "\tacousticness        0.1940\n",
      "\tdanceability        0.1006\n",
      "\tenergy              0.1191\n",
      "\tinstrumentalness    0.1964\n",
      "\tliveness            0.0924\n",
      "\tspeechiness         0.0505\n",
      "\tvalence             0.1772\n",
      "Epoch 54:\n"
     ]
    },
    {
     "name": "stderr",
     "output_type": "stream",
     "text": [
      "Training: 100%|██████████| 165/165 [00:11<00:00, 14.39it/s, loss=0.1258, lr=0.0008323493733352073]\n",
      "Validation: 100%|██████████| 42/42 [00:04<00:00, 10.10it/s, loss=0.1330]\n"
     ]
    },
    {
     "name": "stdout",
     "output_type": "stream",
     "text": [
      "Validation loss: 0.13304500299550237\n",
      "MAE per label:\n",
      "\tacousticness        0.1963\n",
      "\tdanceability        0.1006\n",
      "\tenergy              0.1209\n",
      "\tinstrumentalness    0.1944\n",
      "\tliveness            0.0923\n",
      "\tspeechiness         0.0499\n",
      "\tvalence             0.1770\n",
      "Epoch 55:\n"
     ]
    },
    {
     "name": "stderr",
     "output_type": "stream",
     "text": [
      "Training: 100%|██████████| 165/165 [00:11<00:00, 14.31it/s, loss=0.1265, lr=0.0008264767839234405]\n",
      "Validation: 100%|██████████| 42/42 [00:04<00:00, 10.06it/s, loss=0.1322]\n"
     ]
    },
    {
     "name": "stdout",
     "output_type": "stream",
     "text": [
      "Validation loss: 0.13215010045539766\n",
      "MAE per label:\n",
      "\tacousticness        0.1915\n",
      "\tdanceability        0.0999\n",
      "\tenergy              0.1183\n",
      "\tinstrumentalness    0.1951\n",
      "\tliveness            0.0926\n",
      "\tspeechiness         0.0486\n",
      "\tvalence             0.1790\n",
      "Saved new best model\n",
      "Epoch 56:\n"
     ]
    },
    {
     "name": "stderr",
     "output_type": "stream",
     "text": [
      "Training: 100%|██████████| 165/165 [00:11<00:00, 14.18it/s, loss=0.1255, lr=0.000820524874925601]\n",
      "Validation: 100%|██████████| 42/42 [00:04<00:00, 10.01it/s, loss=0.1334]\n"
     ]
    },
    {
     "name": "stdout",
     "output_type": "stream",
     "text": [
      "Validation loss: 0.13339893271525702\n",
      "MAE per label:\n",
      "\tacousticness        0.1941\n",
      "\tdanceability        0.1013\n",
      "\tenergy              0.1197\n",
      "\tinstrumentalness    0.2002\n",
      "\tliveness            0.0921\n",
      "\tspeechiness         0.0495\n",
      "\tvalence             0.1768\n",
      "Epoch 57:\n"
     ]
    },
    {
     "name": "stderr",
     "output_type": "stream",
     "text": [
      "Training: 100%|██████████| 165/165 [00:11<00:00, 14.39it/s, loss=0.1257, lr=0.0008144951148861737]\n",
      "Validation: 100%|██████████| 42/42 [00:04<00:00, 10.11it/s, loss=0.1314]\n"
     ]
    },
    {
     "name": "stdout",
     "output_type": "stream",
     "text": [
      "Validation loss: 0.13142094388604164\n",
      "MAE per label:\n",
      "\tacousticness        0.1913\n",
      "\tdanceability        0.0998\n",
      "\tenergy              0.1193\n",
      "\tinstrumentalness    0.1916\n",
      "\tliveness            0.0924\n",
      "\tspeechiness         0.0495\n",
      "\tvalence             0.1760\n",
      "Saved new best model\n",
      "Epoch 58:\n"
     ]
    },
    {
     "name": "stderr",
     "output_type": "stream",
     "text": [
      "Training: 100%|██████████| 165/165 [00:11<00:00, 14.44it/s, loss=0.1238, lr=0.0008083889915582231]\n",
      "Validation: 100%|██████████| 42/42 [00:04<00:00, 10.01it/s, loss=0.1332]\n"
     ]
    },
    {
     "name": "stdout",
     "output_type": "stream",
     "text": [
      "Validation loss: 0.13321123733406975\n",
      "MAE per label:\n",
      "\tacousticness        0.1924\n",
      "\tdanceability        0.1002\n",
      "\tenergy              0.1191\n",
      "\tinstrumentalness    0.2007\n",
      "\tliveness            0.0920\n",
      "\tspeechiness         0.0497\n",
      "\tvalence             0.1783\n",
      "Epoch 59:\n"
     ]
    },
    {
     "name": "stderr",
     "output_type": "stream",
     "text": [
      "Training: 100%|██████████| 165/165 [00:11<00:00, 14.39it/s, loss=0.1247, lr=0.0008022080115363123]\n",
      "Validation: 100%|██████████| 42/42 [00:04<00:00, 10.12it/s, loss=0.1335]\n"
     ]
    },
    {
     "name": "stdout",
     "output_type": "stream",
     "text": [
      "Validation loss: 0.13346021994948387\n",
      "MAE per label:\n",
      "\tacousticness        0.1978\n",
      "\tdanceability        0.1011\n",
      "\tenergy              0.1181\n",
      "\tinstrumentalness    0.1979\n",
      "\tliveness            0.0927\n",
      "\tspeechiness         0.0488\n",
      "\tvalence             0.1778\n",
      "Epoch 60:\n"
     ]
    },
    {
     "name": "stderr",
     "output_type": "stream",
     "text": [
      "Training: 100%|██████████| 165/165 [00:11<00:00, 14.46it/s, loss=0.1249, lr=0.0007959536998847739]\n",
      "Validation: 100%|██████████| 42/42 [00:04<00:00, 10.06it/s, loss=0.1324]\n"
     ]
    },
    {
     "name": "stdout",
     "output_type": "stream",
     "text": [
      "Validation loss: 0.13235024291844594\n",
      "MAE per label:\n",
      "\tacousticness        0.1942\n",
      "\tdanceability        0.1011\n",
      "\tenergy              0.1195\n",
      "\tinstrumentalness    0.1960\n",
      "\tliveness            0.0923\n",
      "\tspeechiness         0.0489\n",
      "\tvalence             0.1745\n",
      "Epoch 61:\n"
     ]
    },
    {
     "name": "stderr",
     "output_type": "stream",
     "text": [
      "Training: 100%|██████████| 165/165 [00:11<00:00, 14.40it/s, loss=0.1247, lr=0.0007896275997614226]\n",
      "Validation: 100%|██████████| 42/42 [00:04<00:00, 10.10it/s, loss=0.1320]\n"
     ]
    },
    {
     "name": "stdout",
     "output_type": "stream",
     "text": [
      "Validation loss: 0.1319653947083723\n",
      "MAE per label:\n",
      "\tacousticness        0.1983\n",
      "\tdanceability        0.1017\n",
      "\tenergy              0.1176\n",
      "\tinstrumentalness    0.1913\n",
      "\tliveness            0.0926\n",
      "\tspeechiness         0.0481\n",
      "\tvalence             0.1742\n",
      "Epoch 62:\n"
     ]
    },
    {
     "name": "stderr",
     "output_type": "stream",
     "text": [
      "Training: 100%|██████████| 165/165 [00:11<00:00, 14.29it/s, loss=0.1246, lr=0.0007832312720368044]\n",
      "Validation: 100%|██████████| 42/42 [00:04<00:00,  9.99it/s, loss=0.1326]\n"
     ]
    },
    {
     "name": "stdout",
     "output_type": "stream",
     "text": [
      "Validation loss: 0.13261526290859496\n",
      "MAE per label:\n",
      "\tacousticness        0.1986\n",
      "\tdanceability        0.1017\n",
      "\tenergy              0.1182\n",
      "\tinstrumentalness    0.1915\n",
      "\tliveness            0.0929\n",
      "\tspeechiness         0.0492\n",
      "\tvalence             0.1762\n",
      "Epoch 63:\n"
     ]
    },
    {
     "name": "stderr",
     "output_type": "stream",
     "text": [
      "Training: 100%|██████████| 165/165 [00:11<00:00, 14.31it/s, loss=0.1257, lr=0.0007767662949090749]\n",
      "Validation: 100%|██████████| 42/42 [00:04<00:00, 10.06it/s, loss=0.1319]\n"
     ]
    },
    {
     "name": "stdout",
     "output_type": "stream",
     "text": [
      "Validation loss: 0.13185649560320944\n",
      "MAE per label:\n",
      "\tacousticness        0.1918\n",
      "\tdanceability        0.1003\n",
      "\tenergy              0.1195\n",
      "\tinstrumentalness    0.1962\n",
      "\tliveness            0.0924\n",
      "\tspeechiness         0.0484\n",
      "\tvalence             0.1745\n",
      "Epoch 64:\n"
     ]
    },
    {
     "name": "stderr",
     "output_type": "stream",
     "text": [
      "Training: 100%|██████████| 165/165 [00:11<00:00, 14.57it/s, loss=0.1252, lr=0.000770234263514603]\n",
      "Validation: 100%|██████████| 42/42 [00:04<00:00, 10.07it/s, loss=0.1317]\n"
     ]
    },
    {
     "name": "stdout",
     "output_type": "stream",
     "text": [
      "Validation loss: 0.1317012095380397\n",
      "MAE per label:\n",
      "\tacousticness        0.1915\n",
      "\tdanceability        0.1003\n",
      "\tenergy              0.1179\n",
      "\tinstrumentalness    0.1918\n",
      "\tliveness            0.0923\n",
      "\tspeechiness         0.0497\n",
      "\tvalence             0.1784\n",
      "Epoch 65:\n"
     ]
    },
    {
     "name": "stderr",
     "output_type": "stream",
     "text": [
      "Training: 100%|██████████| 165/165 [00:11<00:00, 14.44it/s, loss=0.1247, lr=0.0007636367895343944]\n",
      "Validation: 100%|██████████| 42/42 [00:04<00:00, 10.12it/s, loss=0.1315]\n"
     ]
    },
    {
     "name": "stdout",
     "output_type": "stream",
     "text": [
      "Validation loss: 0.13150737133054508\n",
      "MAE per label:\n",
      "\tacousticness        0.1913\n",
      "\tdanceability        0.1002\n",
      "\tenergy              0.1182\n",
      "\tinstrumentalness    0.1936\n",
      "\tliveness            0.0920\n",
      "\tspeechiness         0.0491\n",
      "\tvalence             0.1761\n",
      "Epoch 66:\n"
     ]
    },
    {
     "name": "stderr",
     "output_type": "stream",
     "text": [
      "Training: 100%|██████████| 165/165 [00:11<00:00, 14.29it/s, loss=0.1244, lr=0.0007569755007964335]\n",
      "Validation: 100%|██████████| 42/42 [00:04<00:00, 10.20it/s, loss=0.1311]\n"
     ]
    },
    {
     "name": "stdout",
     "output_type": "stream",
     "text": [
      "Validation loss: 0.13108325625459352\n",
      "MAE per label:\n",
      "\tacousticness        0.1932\n",
      "\tdanceability        0.0999\n",
      "\tenergy              0.1180\n",
      "\tinstrumentalness    0.1894\n",
      "\tliveness            0.0922\n",
      "\tspeechiness         0.0493\n",
      "\tvalence             0.1756\n",
      "Saved new best model\n",
      "Epoch 67:\n"
     ]
    },
    {
     "name": "stderr",
     "output_type": "stream",
     "text": [
      "Training: 100%|██████████| 165/165 [00:11<00:00, 14.25it/s, loss=0.1229, lr=0.0007502520408740415]\n",
      "Validation: 100%|██████████| 42/42 [00:04<00:00, 10.05it/s, loss=0.1313]\n"
     ]
    },
    {
     "name": "stdout",
     "output_type": "stream",
     "text": [
      "Validation loss: 0.1312895848282746\n",
      "MAE per label:\n",
      "\tacousticness        0.1931\n",
      "\tdanceability        0.1006\n",
      "\tenergy              0.1174\n",
      "\tinstrumentalness    0.1920\n",
      "\tliveness            0.0923\n",
      "\tspeechiness         0.0495\n",
      "\tvalence             0.1741\n",
      "Epoch 68:\n"
     ]
    },
    {
     "name": "stderr",
     "output_type": "stream",
     "text": [
      "Training: 100%|██████████| 165/165 [00:11<00:00, 14.38it/s, loss=0.1227, lr=0.0007434680686803488]\n",
      "Validation: 100%|██████████| 42/42 [00:04<00:00, 10.03it/s, loss=0.1310]\n"
     ]
    },
    {
     "name": "stdout",
     "output_type": "stream",
     "text": [
      "Validation loss: 0.13101922294923238\n",
      "MAE per label:\n",
      "\tacousticness        0.1931\n",
      "\tdanceability        0.0996\n",
      "\tenergy              0.1166\n",
      "\tinstrumentalness    0.1927\n",
      "\tliveness            0.0920\n",
      "\tspeechiness         0.0488\n",
      "\tvalence             0.1744\n",
      "Saved new best model\n",
      "Epoch 69:\n"
     ]
    },
    {
     "name": "stderr",
     "output_type": "stream",
     "text": [
      "Training: 100%|██████████| 165/165 [00:11<00:00, 14.32it/s, loss=0.1227, lr=0.0007366252580589837]\n",
      "Validation: 100%|██████████| 42/42 [00:04<00:00, 10.06it/s, loss=0.1312]\n"
     ]
    },
    {
     "name": "stdout",
     "output_type": "stream",
     "text": [
      "Validation loss: 0.131246609524602\n",
      "MAE per label:\n",
      "\tacousticness        0.1938\n",
      "\tdanceability        0.0988\n",
      "\tenergy              0.1185\n",
      "\tinstrumentalness    0.1924\n",
      "\tliveness            0.0921\n",
      "\tspeechiness         0.0489\n",
      "\tvalence             0.1743\n",
      "Epoch 70:\n"
     ]
    },
    {
     "name": "stderr",
     "output_type": "stream",
     "text": [
      "Training: 100%|██████████| 165/165 [00:11<00:00, 14.31it/s, loss=0.1244, lr=0.0007297252973710754]\n",
      "Validation: 100%|██████████| 42/42 [00:04<00:00, 10.03it/s, loss=0.1325]\n"
     ]
    },
    {
     "name": "stdout",
     "output_type": "stream",
     "text": [
      "Validation loss: 0.13248068484522046\n",
      "MAE per label:\n",
      "\tacousticness        0.1930\n",
      "\tdanceability        0.0995\n",
      "\tenergy              0.1194\n",
      "\tinstrumentalness    0.1948\n",
      "\tliveness            0.0921\n",
      "\tspeechiness         0.0506\n",
      "\tvalence             0.1781\n",
      "Epoch 71:\n"
     ]
    },
    {
     "name": "stderr",
     "output_type": "stream",
     "text": [
      "Training: 100%|██████████| 165/165 [00:11<00:00, 14.56it/s, loss=0.1250, lr=0.0007227698890786777]\n",
      "Validation: 100%|██████████| 42/42 [00:04<00:00, 10.34it/s, loss=0.1322]\n"
     ]
    },
    {
     "name": "stdout",
     "output_type": "stream",
     "text": [
      "Validation loss: 0.1321639326356706\n",
      "MAE per label:\n",
      "\tacousticness        0.1901\n",
      "\tdanceability        0.1008\n",
      "\tenergy              0.1174\n",
      "\tinstrumentalness    0.1957\n",
      "\tliveness            0.0921\n",
      "\tspeechiness         0.0494\n",
      "\tvalence             0.1797\n",
      "Epoch 72:\n"
     ]
    },
    {
     "name": "stderr",
     "output_type": "stream",
     "text": [
      "Training: 100%|██████████| 165/165 [00:11<00:00, 14.30it/s, loss=0.1234, lr=0.0007157607493247108]\n",
      "Validation: 100%|██████████| 42/42 [00:04<00:00, 10.02it/s, loss=0.1316]\n"
     ]
    },
    {
     "name": "stdout",
     "output_type": "stream",
     "text": [
      "Validation loss: 0.131598373431535\n",
      "MAE per label:\n",
      "\tacousticness        0.1912\n",
      "\tdanceability        0.1006\n",
      "\tenergy              0.1172\n",
      "\tinstrumentalness    0.1966\n",
      "\tliveness            0.0921\n",
      "\tspeechiness         0.0492\n",
      "\tvalence             0.1743\n",
      "Epoch 73:\n"
     ]
    },
    {
     "name": "stderr",
     "output_type": "stream",
     "text": [
      "Training: 100%|██████████| 165/165 [00:11<00:00, 14.33it/s, loss=0.1240, lr=0.0007086996075095287]\n",
      "Validation: 100%|██████████| 42/42 [00:04<00:00, 10.05it/s, loss=0.1316]\n"
     ]
    },
    {
     "name": "stdout",
     "output_type": "stream",
     "text": [
      "Validation loss: 0.1316260832051436\n",
      "MAE per label:\n",
      "\tacousticness        0.1946\n",
      "\tdanceability        0.0995\n",
      "\tenergy              0.1176\n",
      "\tinstrumentalness    0.1918\n",
      "\tliveness            0.0922\n",
      "\tspeechiness         0.0494\n",
      "\tvalence             0.1762\n",
      "Epoch 74:\n"
     ]
    },
    {
     "name": "stderr",
     "output_type": "stream",
     "text": [
      "Training: 100%|██████████| 165/165 [00:11<00:00, 14.28it/s, loss=0.1231, lr=0.0007015882058642161]\n",
      "Validation: 100%|██████████| 42/42 [00:04<00:00, 10.02it/s, loss=0.1317]\n"
     ]
    },
    {
     "name": "stdout",
     "output_type": "stream",
     "text": [
      "Validation loss: 0.13169878916371436\n",
      "MAE per label:\n",
      "\tacousticness        0.1926\n",
      "\tdanceability        0.0995\n",
      "\tenergy              0.1179\n",
      "\tinstrumentalness    0.1954\n",
      "\tliveness            0.0920\n",
      "\tspeechiness         0.0485\n",
      "\tvalence             0.1761\n",
      "Epoch 75:\n"
     ]
    },
    {
     "name": "stderr",
     "output_type": "stream",
     "text": [
      "Training: 100%|██████████| 165/165 [00:11<00:00, 14.64it/s, loss=0.1254, lr=0.0006944282990207193]\n",
      "Validation: 100%|██████████| 42/42 [00:04<00:00, 10.10it/s, loss=0.1322]\n"
     ]
    },
    {
     "name": "stdout",
     "output_type": "stream",
     "text": [
      "Validation loss: 0.13219182565808296\n",
      "MAE per label:\n",
      "\tacousticness        0.1945\n",
      "\tdanceability        0.0984\n",
      "\tenergy              0.1209\n",
      "\tinstrumentalness    0.1920\n",
      "\tliveness            0.0926\n",
      "\tspeechiness         0.0486\n",
      "\tvalence             0.1783\n",
      "Epoch 76:\n"
     ]
    },
    {
     "name": "stderr",
     "output_type": "stream",
     "text": [
      "Training: 100%|██████████| 165/165 [00:11<00:00, 14.42it/s, loss=0.1228, lr=0.0006872216535789155]\n",
      "Validation: 100%|██████████| 42/42 [00:04<00:00, 10.06it/s, loss=0.1314]\n"
     ]
    },
    {
     "name": "stdout",
     "output_type": "stream",
     "text": [
      "Validation loss: 0.1313645179782595\n",
      "MAE per label:\n",
      "\tacousticness        0.1940\n",
      "\tdanceability        0.0987\n",
      "\tenergy              0.1164\n",
      "\tinstrumentalness    0.1953\n",
      "\tliveness            0.0921\n",
      "\tspeechiness         0.0485\n",
      "\tvalence             0.1747\n",
      "Epoch 77:\n"
     ]
    },
    {
     "name": "stderr",
     "output_type": "stream",
     "text": [
      "Training: 100%|██████████| 165/165 [00:11<00:00, 14.44it/s, loss=0.1234, lr=0.0006799700476707321]\n",
      "Validation: 100%|██████████| 42/42 [00:04<00:00, 10.09it/s, loss=0.1307]\n"
     ]
    },
    {
     "name": "stdout",
     "output_type": "stream",
     "text": [
      "Validation loss: 0.1306642136048703\n",
      "MAE per label:\n",
      "\tacousticness        0.1907\n",
      "\tdanceability        0.0989\n",
      "\tenergy              0.1174\n",
      "\tinstrumentalness    0.1922\n",
      "\tliveness            0.0919\n",
      "\tspeechiness         0.0491\n",
      "\tvalence             0.1745\n",
      "Saved new best model\n",
      "Epoch 78:\n"
     ]
    },
    {
     "name": "stderr",
     "output_type": "stream",
     "text": [
      "Training: 100%|██████████| 165/165 [00:11<00:00, 14.21it/s, loss=0.1231, lr=0.0006726752705214191]\n",
      "Validation: 100%|██████████| 42/42 [00:04<00:00, 10.00it/s, loss=0.1317]\n"
     ]
    },
    {
     "name": "stdout",
     "output_type": "stream",
     "text": [
      "Validation loss: 0.1317442006298474\n",
      "MAE per label:\n",
      "\tacousticness        0.1905\n",
      "\tdanceability        0.0990\n",
      "\tenergy              0.1179\n",
      "\tinstrumentalness    0.2006\n",
      "\tliveness            0.0921\n",
      "\tspeechiness         0.0483\n",
      "\tvalence             0.1739\n",
      "Epoch 79:\n"
     ]
    },
    {
     "name": "stderr",
     "output_type": "stream",
     "text": [
      "Training: 100%|██████████| 165/165 [00:11<00:00, 14.29it/s, loss=0.1213, lr=0.0006653391220080838]\n",
      "Validation: 100%|██████████| 42/42 [00:04<00:00, 10.05it/s, loss=0.1304]\n"
     ]
    },
    {
     "name": "stdout",
     "output_type": "stream",
     "text": [
      "Validation loss: 0.13035913468116805\n",
      "MAE per label:\n",
      "\tacousticness        0.1938\n",
      "\tdanceability        0.0975\n",
      "\tenergy              0.1164\n",
      "\tinstrumentalness    0.1891\n",
      "\tliveness            0.0924\n",
      "\tspeechiness         0.0489\n",
      "\tvalence             0.1743\n",
      "Saved new best model\n",
      "Epoch 80:\n"
     ]
    },
    {
     "name": "stderr",
     "output_type": "stream",
     "text": [
      "Training: 100%|██████████| 165/165 [00:11<00:00, 14.41it/s, loss=0.1225, lr=0.0006579634122155988]\n",
      "Validation: 100%|██████████| 42/42 [00:04<00:00, 10.09it/s, loss=0.1319]\n"
     ]
    },
    {
     "name": "stdout",
     "output_type": "stream",
     "text": [
      "Validation loss: 0.131863284856081\n",
      "MAE per label:\n",
      "\tacousticness        0.1925\n",
      "\tdanceability        0.0990\n",
      "\tenergy              0.1171\n",
      "\tinstrumentalness    0.2005\n",
      "\tliveness            0.0920\n",
      "\tspeechiness         0.0485\n",
      "\tvalence             0.1734\n",
      "Epoch 81:\n"
     ]
    },
    {
     "name": "stderr",
     "output_type": "stream",
     "text": [
      "Training: 100%|██████████| 165/165 [00:11<00:00, 14.82it/s, loss=0.1218, lr=0.0006505499609899903]\n",
      "Validation: 100%|██████████| 42/42 [00:04<00:00, 10.33it/s, loss=0.1308]\n"
     ]
    },
    {
     "name": "stdout",
     "output_type": "stream",
     "text": [
      "Validation loss: 0.13083472989854358\n",
      "MAE per label:\n",
      "\tacousticness        0.1916\n",
      "\tdanceability        0.0987\n",
      "\tenergy              0.1179\n",
      "\tinstrumentalness    0.1920\n",
      "\tliveness            0.0922\n",
      "\tspeechiness         0.0489\n",
      "\tvalence             0.1746\n",
      "Epoch 82:\n"
     ]
    },
    {
     "name": "stderr",
     "output_type": "stream",
     "text": [
      "Training: 100%|██████████| 165/165 [00:11<00:00, 14.45it/s, loss=0.1217, lr=0.0006431005974894184]\n",
      "Validation: 100%|██████████| 42/42 [00:04<00:00, 10.00it/s, loss=0.1309]\n"
     ]
    },
    {
     "name": "stdout",
     "output_type": "stream",
     "text": [
      "Validation loss: 0.13089310697146825\n",
      "MAE per label:\n",
      "\tacousticness        0.1909\n",
      "\tdanceability        0.0970\n",
      "\tenergy              0.1183\n",
      "\tinstrumentalness    0.1927\n",
      "\tliveness            0.0923\n",
      "\tspeechiness         0.0488\n",
      "\tvalence             0.1763\n",
      "Epoch 83:\n"
     ]
    },
    {
     "name": "stderr",
     "output_type": "stream",
     "text": [
      "Training: 100%|██████████| 165/165 [00:11<00:00, 14.38it/s, loss=0.1222, lr=0.0006356171597328593]\n",
      "Validation: 100%|██████████| 42/42 [00:04<00:00, 10.26it/s, loss=0.1311]\n"
     ]
    },
    {
     "name": "stdout",
     "output_type": "stream",
     "text": [
      "Validation loss: 0.13113955426074209\n",
      "MAE per label:\n",
      "\tacousticness        0.1943\n",
      "\tdanceability        0.0981\n",
      "\tenergy              0.1186\n",
      "\tinstrumentalness    0.1891\n",
      "\tliveness            0.0924\n",
      "\tspeechiness         0.0491\n",
      "\tvalence             0.1764\n",
      "Epoch 84:\n"
     ]
    },
    {
     "name": "stderr",
     "output_type": "stream",
     "text": [
      "Training: 100%|██████████| 165/165 [00:11<00:00, 14.65it/s, loss=0.1229, lr=0.0006281014941466028]\n",
      "Validation: 100%|██████████| 42/42 [00:04<00:00, 10.06it/s, loss=0.1307]\n"
     ]
    },
    {
     "name": "stdout",
     "output_type": "stream",
     "text": [
      "Validation loss: 0.13071530063947043\n",
      "MAE per label:\n",
      "\tacousticness        0.1935\n",
      "\tdanceability        0.0992\n",
      "\tenergy              0.1179\n",
      "\tinstrumentalness    0.1884\n",
      "\tliveness            0.0921\n",
      "\tspeechiness         0.0486\n",
      "\tvalence             0.1754\n",
      "Epoch 85:\n"
     ]
    },
    {
     "name": "stderr",
     "output_type": "stream",
     "text": [
      "Training: 100%|██████████| 165/165 [00:11<00:00, 14.46it/s, loss=0.1212, lr=0.000620555455108673]\n",
      "Validation: 100%|██████████| 42/42 [00:04<00:00,  9.78it/s, loss=0.1312]\n"
     ]
    },
    {
     "name": "stdout",
     "output_type": "stream",
     "text": [
      "Validation loss: 0.1312478000209445\n",
      "MAE per label:\n",
      "\tacousticness        0.1924\n",
      "\tdanceability        0.1017\n",
      "\tenergy              0.1177\n",
      "\tinstrumentalness    0.1926\n",
      "\tliveness            0.0922\n",
      "\tspeechiness         0.0481\n",
      "\tvalence             0.1742\n",
      "Epoch 86:\n"
     ]
    },
    {
     "name": "stderr",
     "output_type": "stream",
     "text": [
      "Training: 100%|██████████| 165/165 [00:11<00:00, 14.38it/s, loss=0.1207, lr=0.0006129809044912885]\n",
      "Validation: 100%|██████████| 42/42 [00:04<00:00,  9.21it/s, loss=0.1307]\n"
     ]
    },
    {
     "name": "stdout",
     "output_type": "stream",
     "text": [
      "Validation loss: 0.1307020710692519\n",
      "MAE per label:\n",
      "\tacousticness        0.1935\n",
      "\tdanceability        0.0979\n",
      "\tenergy              0.1176\n",
      "\tinstrumentalness    0.1908\n",
      "\tliveness            0.0922\n",
      "\tspeechiness         0.0486\n",
      "\tvalence             0.1743\n",
      "Epoch 87:\n"
     ]
    },
    {
     "name": "stderr",
     "output_type": "stream",
     "text": [
      "Training:  18%|█▊        | 30/165 [00:04<00:19,  7.07it/s, loss=0.1227, lr=0.0006053797112014735]\n"
     ]
    },
    {
     "ename": "KeyboardInterrupt",
     "evalue": "",
     "output_type": "error",
     "traceback": [
      "\u001b[31m---------------------------------------------------------------------------\u001b[39m",
      "\u001b[31mKeyboardInterrupt\u001b[39m                         Traceback (most recent call last)",
      "\u001b[36mCell\u001b[39m\u001b[36m \u001b[39m\u001b[32mIn[6]\u001b[39m\u001b[32m, line 12\u001b[39m\n\u001b[32m      9\u001b[39m train_losses = []\n\u001b[32m     11\u001b[39m \u001b[38;5;28;01mwith\u001b[39;00m tqdm(train_dl, desc=\u001b[33m'\u001b[39m\u001b[33mTraining\u001b[39m\u001b[33m'\u001b[39m) \u001b[38;5;28;01mas\u001b[39;00m pbar:\n\u001b[32m---> \u001b[39m\u001b[32m12\u001b[39m \u001b[43m    \u001b[49m\u001b[38;5;28;43;01mfor\u001b[39;49;00m\u001b[43m \u001b[49m\u001b[43mdata\u001b[49m\u001b[43m,\u001b[49m\u001b[43m \u001b[49m\u001b[43mlabel\u001b[49m\u001b[43m \u001b[49m\u001b[38;5;129;43;01min\u001b[39;49;00m\u001b[43m \u001b[49m\u001b[43mpbar\u001b[49m\u001b[43m:\u001b[49m\n\u001b[32m     13\u001b[39m \u001b[43m        \u001b[49m\u001b[43mdata\u001b[49m\u001b[43m,\u001b[49m\u001b[43m \u001b[49m\u001b[43mlabel\u001b[49m\u001b[43m \u001b[49m\u001b[43m=\u001b[49m\u001b[43m \u001b[49m\u001b[43mdata\u001b[49m\u001b[43m.\u001b[49m\u001b[43mto\u001b[49m\u001b[43m(\u001b[49m\u001b[43mdevice\u001b[49m\u001b[43m)\u001b[49m\u001b[43m.\u001b[49m\u001b[43mfloat\u001b[49m\u001b[43m(\u001b[49m\u001b[43m)\u001b[49m\u001b[43m,\u001b[49m\u001b[43m \u001b[49m\u001b[43mlabel\u001b[49m\u001b[43m.\u001b[49m\u001b[43mto\u001b[49m\u001b[43m(\u001b[49m\u001b[43mdevice\u001b[49m\u001b[43m)\u001b[49m\u001b[43m.\u001b[49m\u001b[43mfloat\u001b[49m\u001b[43m(\u001b[49m\u001b[43m)\u001b[49m\n\u001b[32m     14\u001b[39m \u001b[43m        \u001b[49m\u001b[43moptimizer\u001b[49m\u001b[43m.\u001b[49m\u001b[43mzero_grad\u001b[49m\u001b[43m(\u001b[49m\u001b[43m)\u001b[49m\n",
      "\u001b[36mFile \u001b[39m\u001b[32m~/music-vibes/venv/lib64/python3.11/site-packages/tqdm/std.py:1181\u001b[39m, in \u001b[36mtqdm.__iter__\u001b[39m\u001b[34m(self)\u001b[39m\n\u001b[32m   1178\u001b[39m time = \u001b[38;5;28mself\u001b[39m._time\n\u001b[32m   1180\u001b[39m \u001b[38;5;28;01mtry\u001b[39;00m:\n\u001b[32m-> \u001b[39m\u001b[32m1181\u001b[39m \u001b[43m    \u001b[49m\u001b[38;5;28;43;01mfor\u001b[39;49;00m\u001b[43m \u001b[49m\u001b[43mobj\u001b[49m\u001b[43m \u001b[49m\u001b[38;5;129;43;01min\u001b[39;49;00m\u001b[43m \u001b[49m\u001b[43miterable\u001b[49m\u001b[43m:\u001b[49m\n\u001b[32m   1182\u001b[39m \u001b[43m        \u001b[49m\u001b[38;5;28;43;01myield\u001b[39;49;00m\u001b[43m \u001b[49m\u001b[43mobj\u001b[49m\n\u001b[32m   1183\u001b[39m \u001b[43m        \u001b[49m\u001b[38;5;66;43;03m# Update and possibly print the progressbar.\u001b[39;49;00m\n\u001b[32m   1184\u001b[39m \u001b[43m        \u001b[49m\u001b[38;5;66;43;03m# Note: does not call self.update(1) for speed optimisation.\u001b[39;49;00m\n",
      "\u001b[36mFile \u001b[39m\u001b[32m~/music-vibes/venv/lib64/python3.11/site-packages/torch/utils/data/dataloader.py:733\u001b[39m, in \u001b[36m_BaseDataLoaderIter.__next__\u001b[39m\u001b[34m(self)\u001b[39m\n\u001b[32m    730\u001b[39m \u001b[38;5;28;01mif\u001b[39;00m \u001b[38;5;28mself\u001b[39m._sampler_iter \u001b[38;5;129;01mis\u001b[39;00m \u001b[38;5;28;01mNone\u001b[39;00m:\n\u001b[32m    731\u001b[39m     \u001b[38;5;66;03m# TODO(https://github.com/pytorch/pytorch/issues/76750)\u001b[39;00m\n\u001b[32m    732\u001b[39m     \u001b[38;5;28mself\u001b[39m._reset()  \u001b[38;5;66;03m# type: ignore[call-arg]\u001b[39;00m\n\u001b[32m--> \u001b[39m\u001b[32m733\u001b[39m data = \u001b[38;5;28;43mself\u001b[39;49m\u001b[43m.\u001b[49m\u001b[43m_next_data\u001b[49m\u001b[43m(\u001b[49m\u001b[43m)\u001b[49m\n\u001b[32m    734\u001b[39m \u001b[38;5;28mself\u001b[39m._num_yielded += \u001b[32m1\u001b[39m\n\u001b[32m    735\u001b[39m \u001b[38;5;28;01mif\u001b[39;00m (\n\u001b[32m    736\u001b[39m     \u001b[38;5;28mself\u001b[39m._dataset_kind == _DatasetKind.Iterable\n\u001b[32m    737\u001b[39m     \u001b[38;5;129;01mand\u001b[39;00m \u001b[38;5;28mself\u001b[39m._IterableDataset_len_called \u001b[38;5;129;01mis\u001b[39;00m \u001b[38;5;129;01mnot\u001b[39;00m \u001b[38;5;28;01mNone\u001b[39;00m\n\u001b[32m    738\u001b[39m     \u001b[38;5;129;01mand\u001b[39;00m \u001b[38;5;28mself\u001b[39m._num_yielded > \u001b[38;5;28mself\u001b[39m._IterableDataset_len_called\n\u001b[32m    739\u001b[39m ):\n",
      "\u001b[36mFile \u001b[39m\u001b[32m~/music-vibes/venv/lib64/python3.11/site-packages/torch/utils/data/dataloader.py:789\u001b[39m, in \u001b[36m_SingleProcessDataLoaderIter._next_data\u001b[39m\u001b[34m(self)\u001b[39m\n\u001b[32m    787\u001b[39m \u001b[38;5;28;01mdef\u001b[39;00m\u001b[38;5;250m \u001b[39m\u001b[34m_next_data\u001b[39m(\u001b[38;5;28mself\u001b[39m):\n\u001b[32m    788\u001b[39m     index = \u001b[38;5;28mself\u001b[39m._next_index()  \u001b[38;5;66;03m# may raise StopIteration\u001b[39;00m\n\u001b[32m--> \u001b[39m\u001b[32m789\u001b[39m     data = \u001b[38;5;28;43mself\u001b[39;49m\u001b[43m.\u001b[49m\u001b[43m_dataset_fetcher\u001b[49m\u001b[43m.\u001b[49m\u001b[43mfetch\u001b[49m\u001b[43m(\u001b[49m\u001b[43mindex\u001b[49m\u001b[43m)\u001b[49m  \u001b[38;5;66;03m# may raise StopIteration\u001b[39;00m\n\u001b[32m    790\u001b[39m     \u001b[38;5;28;01mif\u001b[39;00m \u001b[38;5;28mself\u001b[39m._pin_memory:\n\u001b[32m    791\u001b[39m         data = _utils.pin_memory.pin_memory(data, \u001b[38;5;28mself\u001b[39m._pin_memory_device)\n",
      "\u001b[36mFile \u001b[39m\u001b[32m~/music-vibes/venv/lib64/python3.11/site-packages/torch/utils/data/_utils/fetch.py:55\u001b[39m, in \u001b[36m_MapDatasetFetcher.fetch\u001b[39m\u001b[34m(self, possibly_batched_index)\u001b[39m\n\u001b[32m     53\u001b[39m \u001b[38;5;28;01melse\u001b[39;00m:\n\u001b[32m     54\u001b[39m     data = \u001b[38;5;28mself\u001b[39m.dataset[possibly_batched_index]\n\u001b[32m---> \u001b[39m\u001b[32m55\u001b[39m \u001b[38;5;28;01mreturn\u001b[39;00m \u001b[38;5;28;43mself\u001b[39;49m\u001b[43m.\u001b[49m\u001b[43mcollate_fn\u001b[49m\u001b[43m(\u001b[49m\u001b[43mdata\u001b[49m\u001b[43m)\u001b[49m\n",
      "\u001b[36mFile \u001b[39m\u001b[32m~/music-vibes/venv/lib64/python3.11/site-packages/torch/utils/data/_utils/collate.py:398\u001b[39m, in \u001b[36mdefault_collate\u001b[39m\u001b[34m(batch)\u001b[39m\n\u001b[32m    337\u001b[39m \u001b[38;5;28;01mdef\u001b[39;00m\u001b[38;5;250m \u001b[39m\u001b[34mdefault_collate\u001b[39m(batch):\n\u001b[32m    338\u001b[39m \u001b[38;5;250m    \u001b[39m\u001b[33mr\u001b[39m\u001b[33;03m\"\"\"\u001b[39;00m\n\u001b[32m    339\u001b[39m \u001b[33;03m    Take in a batch of data and put the elements within the batch into a tensor with an additional outer dimension - batch size.\u001b[39;00m\n\u001b[32m    340\u001b[39m \n\u001b[32m   (...)\u001b[39m\u001b[32m    396\u001b[39m \u001b[33;03m        >>> default_collate(batch)  # Handle `CustomType` automatically\u001b[39;00m\n\u001b[32m    397\u001b[39m \u001b[33;03m    \"\"\"\u001b[39;00m\n\u001b[32m--> \u001b[39m\u001b[32m398\u001b[39m     \u001b[38;5;28;01mreturn\u001b[39;00m \u001b[43mcollate\u001b[49m\u001b[43m(\u001b[49m\u001b[43mbatch\u001b[49m\u001b[43m,\u001b[49m\u001b[43m \u001b[49m\u001b[43mcollate_fn_map\u001b[49m\u001b[43m=\u001b[49m\u001b[43mdefault_collate_fn_map\u001b[49m\u001b[43m)\u001b[49m\n",
      "\u001b[36mFile \u001b[39m\u001b[32m~/music-vibes/venv/lib64/python3.11/site-packages/torch/utils/data/_utils/collate.py:211\u001b[39m, in \u001b[36mcollate\u001b[39m\u001b[34m(batch, collate_fn_map)\u001b[39m\n\u001b[32m    208\u001b[39m transposed = \u001b[38;5;28mlist\u001b[39m(\u001b[38;5;28mzip\u001b[39m(*batch))  \u001b[38;5;66;03m# It may be accessed twice, so we use a list.\u001b[39;00m\n\u001b[32m    210\u001b[39m \u001b[38;5;28;01mif\u001b[39;00m \u001b[38;5;28misinstance\u001b[39m(elem, \u001b[38;5;28mtuple\u001b[39m):\n\u001b[32m--> \u001b[39m\u001b[32m211\u001b[39m     \u001b[38;5;28;01mreturn\u001b[39;00m \u001b[43m[\u001b[49m\n\u001b[32m    212\u001b[39m \u001b[43m        \u001b[49m\u001b[43mcollate\u001b[49m\u001b[43m(\u001b[49m\u001b[43msamples\u001b[49m\u001b[43m,\u001b[49m\u001b[43m \u001b[49m\u001b[43mcollate_fn_map\u001b[49m\u001b[43m=\u001b[49m\u001b[43mcollate_fn_map\u001b[49m\u001b[43m)\u001b[49m\n\u001b[32m    213\u001b[39m \u001b[43m        \u001b[49m\u001b[38;5;28;43;01mfor\u001b[39;49;00m\u001b[43m \u001b[49m\u001b[43msamples\u001b[49m\u001b[43m \u001b[49m\u001b[38;5;129;43;01min\u001b[39;49;00m\u001b[43m \u001b[49m\u001b[43mtransposed\u001b[49m\n\u001b[32m    214\u001b[39m \u001b[43m    \u001b[49m\u001b[43m]\u001b[49m  \u001b[38;5;66;03m# Backwards compatibility.\u001b[39;00m\n\u001b[32m    215\u001b[39m \u001b[38;5;28;01melse\u001b[39;00m:\n\u001b[32m    216\u001b[39m     \u001b[38;5;28;01mtry\u001b[39;00m:\n",
      "\u001b[36mFile \u001b[39m\u001b[32m~/music-vibes/venv/lib64/python3.11/site-packages/torch/utils/data/_utils/collate.py:212\u001b[39m, in \u001b[36m<listcomp>\u001b[39m\u001b[34m(.0)\u001b[39m\n\u001b[32m    208\u001b[39m transposed = \u001b[38;5;28mlist\u001b[39m(\u001b[38;5;28mzip\u001b[39m(*batch))  \u001b[38;5;66;03m# It may be accessed twice, so we use a list.\u001b[39;00m\n\u001b[32m    210\u001b[39m \u001b[38;5;28;01mif\u001b[39;00m \u001b[38;5;28misinstance\u001b[39m(elem, \u001b[38;5;28mtuple\u001b[39m):\n\u001b[32m    211\u001b[39m     \u001b[38;5;28;01mreturn\u001b[39;00m [\n\u001b[32m--> \u001b[39m\u001b[32m212\u001b[39m         \u001b[43mcollate\u001b[49m\u001b[43m(\u001b[49m\u001b[43msamples\u001b[49m\u001b[43m,\u001b[49m\u001b[43m \u001b[49m\u001b[43mcollate_fn_map\u001b[49m\u001b[43m=\u001b[49m\u001b[43mcollate_fn_map\u001b[49m\u001b[43m)\u001b[49m\n\u001b[32m    213\u001b[39m         \u001b[38;5;28;01mfor\u001b[39;00m samples \u001b[38;5;129;01min\u001b[39;00m transposed\n\u001b[32m    214\u001b[39m     ]  \u001b[38;5;66;03m# Backwards compatibility.\u001b[39;00m\n\u001b[32m    215\u001b[39m \u001b[38;5;28;01melse\u001b[39;00m:\n\u001b[32m    216\u001b[39m     \u001b[38;5;28;01mtry\u001b[39;00m:\n",
      "\u001b[36mFile \u001b[39m\u001b[32m~/music-vibes/venv/lib64/python3.11/site-packages/torch/utils/data/_utils/collate.py:159\u001b[39m, in \u001b[36mcollate\u001b[39m\u001b[34m(batch, collate_fn_map)\u001b[39m\n\u001b[32m    157\u001b[39m     \u001b[38;5;28;01mfor\u001b[39;00m collate_type \u001b[38;5;129;01min\u001b[39;00m collate_fn_map:\n\u001b[32m    158\u001b[39m         \u001b[38;5;28;01mif\u001b[39;00m \u001b[38;5;28misinstance\u001b[39m(elem, collate_type):\n\u001b[32m--> \u001b[39m\u001b[32m159\u001b[39m             \u001b[38;5;28;01mreturn\u001b[39;00m \u001b[43mcollate_fn_map\u001b[49m\u001b[43m[\u001b[49m\u001b[43mcollate_type\u001b[49m\u001b[43m]\u001b[49m\u001b[43m(\u001b[49m\n\u001b[32m    160\u001b[39m \u001b[43m                \u001b[49m\u001b[43mbatch\u001b[49m\u001b[43m,\u001b[49m\u001b[43m \u001b[49m\u001b[43mcollate_fn_map\u001b[49m\u001b[43m=\u001b[49m\u001b[43mcollate_fn_map\u001b[49m\n\u001b[32m    161\u001b[39m \u001b[43m            \u001b[49m\u001b[43m)\u001b[49m\n\u001b[32m    163\u001b[39m \u001b[38;5;28;01mif\u001b[39;00m \u001b[38;5;28misinstance\u001b[39m(elem, collections.abc.Mapping):\n\u001b[32m    164\u001b[39m     \u001b[38;5;28;01mtry\u001b[39;00m:\n",
      "\u001b[36mFile \u001b[39m\u001b[32m~/music-vibes/venv/lib64/python3.11/site-packages/torch/utils/data/_utils/collate.py:285\u001b[39m, in \u001b[36mcollate_numpy_array_fn\u001b[39m\u001b[34m(batch, collate_fn_map)\u001b[39m\n\u001b[32m    282\u001b[39m \u001b[38;5;28;01mif\u001b[39;00m np_str_obj_array_pattern.search(elem.dtype.str) \u001b[38;5;129;01mis\u001b[39;00m \u001b[38;5;129;01mnot\u001b[39;00m \u001b[38;5;28;01mNone\u001b[39;00m:\n\u001b[32m    283\u001b[39m     \u001b[38;5;28;01mraise\u001b[39;00m \u001b[38;5;167;01mTypeError\u001b[39;00m(default_collate_err_msg_format.format(elem.dtype))\n\u001b[32m--> \u001b[39m\u001b[32m285\u001b[39m \u001b[38;5;28;01mreturn\u001b[39;00m \u001b[43mcollate\u001b[49m\u001b[43m(\u001b[49m\u001b[43m[\u001b[49m\u001b[43mtorch\u001b[49m\u001b[43m.\u001b[49m\u001b[43mas_tensor\u001b[49m\u001b[43m(\u001b[49m\u001b[43mb\u001b[49m\u001b[43m)\u001b[49m\u001b[43m \u001b[49m\u001b[38;5;28;43;01mfor\u001b[39;49;00m\u001b[43m \u001b[49m\u001b[43mb\u001b[49m\u001b[43m \u001b[49m\u001b[38;5;129;43;01min\u001b[39;49;00m\u001b[43m \u001b[49m\u001b[43mbatch\u001b[49m\u001b[43m]\u001b[49m\u001b[43m,\u001b[49m\u001b[43m \u001b[49m\u001b[43mcollate_fn_map\u001b[49m\u001b[43m=\u001b[49m\u001b[43mcollate_fn_map\u001b[49m\u001b[43m)\u001b[49m\n",
      "\u001b[36mFile \u001b[39m\u001b[32m~/music-vibes/venv/lib64/python3.11/site-packages/torch/utils/data/_utils/collate.py:155\u001b[39m, in \u001b[36mcollate\u001b[39m\u001b[34m(batch, collate_fn_map)\u001b[39m\n\u001b[32m    153\u001b[39m \u001b[38;5;28;01mif\u001b[39;00m collate_fn_map \u001b[38;5;129;01mis\u001b[39;00m \u001b[38;5;129;01mnot\u001b[39;00m \u001b[38;5;28;01mNone\u001b[39;00m:\n\u001b[32m    154\u001b[39m     \u001b[38;5;28;01mif\u001b[39;00m elem_type \u001b[38;5;129;01min\u001b[39;00m collate_fn_map:\n\u001b[32m--> \u001b[39m\u001b[32m155\u001b[39m         \u001b[38;5;28;01mreturn\u001b[39;00m \u001b[43mcollate_fn_map\u001b[49m\u001b[43m[\u001b[49m\u001b[43melem_type\u001b[49m\u001b[43m]\u001b[49m\u001b[43m(\u001b[49m\u001b[43mbatch\u001b[49m\u001b[43m,\u001b[49m\u001b[43m \u001b[49m\u001b[43mcollate_fn_map\u001b[49m\u001b[43m=\u001b[49m\u001b[43mcollate_fn_map\u001b[49m\u001b[43m)\u001b[49m\n\u001b[32m    157\u001b[39m     \u001b[38;5;28;01mfor\u001b[39;00m collate_type \u001b[38;5;129;01min\u001b[39;00m collate_fn_map:\n\u001b[32m    158\u001b[39m         \u001b[38;5;28;01mif\u001b[39;00m \u001b[38;5;28misinstance\u001b[39m(elem, collate_type):\n",
      "\u001b[36mFile \u001b[39m\u001b[32m~/music-vibes/venv/lib64/python3.11/site-packages/torch/utils/data/_utils/collate.py:272\u001b[39m, in \u001b[36mcollate_tensor_fn\u001b[39m\u001b[34m(batch, collate_fn_map)\u001b[39m\n\u001b[32m    270\u001b[39m     storage = elem._typed_storage()._new_shared(numel, device=elem.device)\n\u001b[32m    271\u001b[39m     out = elem.new(storage).resize_(\u001b[38;5;28mlen\u001b[39m(batch), *\u001b[38;5;28mlist\u001b[39m(elem.size()))\n\u001b[32m--> \u001b[39m\u001b[32m272\u001b[39m \u001b[38;5;28;01mreturn\u001b[39;00m \u001b[43mtorch\u001b[49m\u001b[43m.\u001b[49m\u001b[43mstack\u001b[49m\u001b[43m(\u001b[49m\u001b[43mbatch\u001b[49m\u001b[43m,\u001b[49m\u001b[43m \u001b[49m\u001b[32;43m0\u001b[39;49m\u001b[43m,\u001b[49m\u001b[43m \u001b[49m\u001b[43mout\u001b[49m\u001b[43m=\u001b[49m\u001b[43mout\u001b[49m\u001b[43m)\u001b[49m\n",
      "\u001b[31mKeyboardInterrupt\u001b[39m: "
     ]
    }
   ],
   "source": [
    "best_loss = 1\n",
    "\n",
    "for epoch in range(NUM_EPOCHS):\n",
    "    scheduler.step()\n",
    "\n",
    "    print(f\"Epoch {epoch+1}:\")\n",
    "    model.train()\n",
    "    \n",
    "    train_losses = []\n",
    "\n",
    "    with tqdm(train_dl, desc='Training') as pbar:\n",
    "        for data, label in pbar:\n",
    "            data, label = data.to(device).float(), label.to(device).float()\n",
    "            optimizer.zero_grad()\n",
    "\n",
    "            if data.shape[0] % 2 != 0:\n",
    "                data = data.expand(2, -1, -1, -1)\n",
    "                label = label.expand(2, -1)\n",
    "\n",
    "            mixup_lambda = torch.from_numpy(mixup.get_lambda(data.shape[0]).astype(np.float32)).to(device)\n",
    "            label = do_mixup(label, mixup_lambda)\n",
    "\n",
    "            with torch.autocast(device_type=\"cuda\"):\n",
    "                pred = model(data, mixup_lambda)\n",
    "                loss = F.l1_loss(pred, label)\n",
    "\n",
    "            loss.backward()\n",
    "            optimizer.step()\n",
    "\n",
    "            train_losses.append(loss.item())\n",
    "            train_loss = np.mean(train_losses)\n",
    "\n",
    "            pbar.set_postfix({'loss': f\"{train_loss:.4f}\", 'lr': f\"{scheduler.get_last_lr()[0]}\"})\n",
    "\n",
    "    model.eval()\n",
    "\n",
    "    eval_losses = []\n",
    "    label_maes = []\n",
    "\n",
    "    with tqdm(test_dl, desc='Validation') as pbar:\n",
    "        with torch.inference_mode():\n",
    "            for data, label in pbar:\n",
    "                data, label = data.to(device).float(), label.to(device).float()\n",
    "\n",
    "                pred = model(data)\n",
    "                loss = F.l1_loss(pred, label)\n",
    "\n",
    "                eval_losses.append(loss.item())\n",
    "                eval_loss = np.mean(eval_losses)\n",
    "\n",
    "                mae = torch.mean(torch.abs(pred - label), dim=0) # for per-metric MAE\n",
    "                label_maes.append(mae.cpu().numpy())\n",
    "\n",
    "                pbar.set_postfix({'loss': f\"{eval_loss:.4f}\"})\n",
    "    \n",
    "    eval_loss = np.mean(eval_losses)\n",
    "    print(\"Validation loss:\", eval_loss)\n",
    "\n",
    "    label_mae = np.mean(label_maes, axis=0)\n",
    "    print(\"MAE per label:\")\n",
    "    for i, label in enumerate(labels):\n",
    "        print(f\"\\t{label:<20}{label_mae[i]:.4f}\")\n",
    "\n",
    "    if eval_loss < best_loss:\n",
    "        best_loss = eval_loss\n",
    "        torch.save(model.state_dict(), 'best_model.pt')\n",
    "        print('Saved new best model')"
   ]
  },
  {
   "cell_type": "code",
   "execution_count": 6,
   "id": "3988bddd",
   "metadata": {},
   "outputs": [
    {
     "name": "stdout",
     "output_type": "stream",
     "text": [
      "acousticness        0.4377\n",
      "danceability        0.5791\n",
      "energy              0.7266\n",
      "instrumentalness    0.5913\n",
      "liveness            0.1249\n",
      "speechiness         0.0463\n",
      "valence             0.7236\n"
     ]
    }
   ],
   "source": [
    "model.load_state_dict(torch.load('best_model.pt'))\n",
    "\n",
    "y, sr = librosa.load(\"Dancing Queen.flac\", sr=16000)\n",
    "log_mel = vggish_input.waveform_to_examples(y, sample_rate=16000).to(device).float()\n",
    "log_mel = log_mel.squeeze(1)\n",
    "log_mel = log_mel.unsqueeze(0)\n",
    "\n",
    "model.eval()\n",
    "\n",
    "with torch.inference_mode():\n",
    "    with torch.autocast(device_type=\"cuda\"):\n",
    "        pred = model(log_mel)\n",
    "\n",
    "pred = pred[0].cpu().numpy()\n",
    "for i, label in enumerate(labels):\n",
    "    print(f\"{label:<20}{pred[i]:.4f}\")"
   ]
  }
 ],
 "metadata": {
  "kernelspec": {
   "display_name": "venv",
   "language": "python",
   "name": "python3"
  },
  "language_info": {
   "codemirror_mode": {
    "name": "ipython",
    "version": 3
   },
   "file_extension": ".py",
   "mimetype": "text/x-python",
   "name": "python",
   "nbconvert_exporter": "python",
   "pygments_lexer": "ipython3",
   "version": "3.6.8"
  }
 },
 "nbformat": 4,
 "nbformat_minor": 5
}
