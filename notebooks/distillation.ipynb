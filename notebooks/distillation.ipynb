{
 "cells": [
  {
   "cell_type": "code",
   "execution_count": 1,
   "id": "9125ec0e",
   "metadata": {},
   "outputs": [
    {
     "name": "stdout",
     "output_type": "stream",
     "text": [
      "/home/jaeheonshim/music-vibes\n"
     ]
    }
   ],
   "source": [
    "%cd /home/jaeheonshim/music-vibes"
   ]
  },
  {
   "cell_type": "code",
   "execution_count": 2,
   "id": "9f1f45e3",
   "metadata": {},
   "outputs": [],
   "source": [
    "import torch\n",
    "import numpy as np\n",
    "from torch import nn, autocast\n",
    "import torch.nn.functional as F\n",
    "from torch.optim.lr_scheduler import CosineAnnealingLR\n",
    "from torch.utils.data import random_split, DataLoader, Subset\n",
    "from tqdm import tqdm\n",
    "from torch.utils.tensorboard import SummaryWriter\n",
    "from collections import defaultdict\n",
    "\n",
    "from vibenet import labels\n",
    "from vibenet.dataset import FMAWaveformDataset\n",
    "from vibenet.models.student import EfficientNetRegressor\n",
    "\n",
    "device = 'cuda'\n"
   ]
  },
  {
   "cell_type": "code",
   "execution_count": 3,
   "id": "6c4483c8",
   "metadata": {},
   "outputs": [
    {
     "name": "stdout",
     "output_type": "stream",
     "text": [
      "90437\n"
     ]
    }
   ],
   "source": [
    "train_ds = FMAWaveformDataset('data/preprocessed/waveforms_distill_train')\n",
    "test_ds = FMAWaveformDataset('data/preprocessed/waveforms_distill_test')\n",
    "\n",
    "print(len(train_ds))"
   ]
  },
  {
   "cell_type": "code",
   "execution_count": 5,
   "id": "6f6dd277",
   "metadata": {},
   "outputs": [
    {
     "name": "stdout",
     "output_type": "stream",
     "text": [
      "torch.Size([1, 10000])\n",
      "{'acousticness': tensor([-0.1870], device='cuda:0', grad_fn=<SqueezeBackward1>), 'danceability': tensor([-0.1724], device='cuda:0', grad_fn=<SqueezeBackward1>), 'energy': tensor([0.3278], device='cuda:0', grad_fn=<SqueezeBackward1>), 'instrumentalness': tensor([0.1145], device='cuda:0', grad_fn=<SqueezeBackward1>), 'liveness': tensor([-0.3937], device='cuda:0', grad_fn=<SqueezeBackward1>), 'speechiness': tensor([0.0911], device='cuda:0', grad_fn=<SqueezeBackward1>), 'valence': tensor([-0.0147], device='cuda:0', grad_fn=<SqueezeBackward1>)}\n"
     ]
    }
   ],
   "source": [
    "net = EfficientNetRegressor()\n",
    "net = net.to(device)\n",
    "\n",
    "x = train_ds[0][0][:10000].unsqueeze(0).to(device)\n",
    "print(x.shape)\n",
    "print(net(x))"
   ]
  }
 ],
 "metadata": {
  "kernelspec": {
   "display_name": "venv",
   "language": "python",
   "name": "python3"
  },
  "language_info": {
   "codemirror_mode": {
    "name": "ipython",
    "version": 3
   },
   "file_extension": ".py",
   "mimetype": "text/x-python",
   "name": "python",
   "nbconvert_exporter": "python",
   "pygments_lexer": "ipython3",
   "version": "3.6.8"
  }
 },
 "nbformat": 4,
 "nbformat_minor": 5
}
