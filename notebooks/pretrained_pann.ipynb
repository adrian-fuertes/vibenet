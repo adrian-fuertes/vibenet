{
 "cells": [
  {
   "cell_type": "code",
   "execution_count": null,
   "id": "827b44bd",
   "metadata": {},
   "outputs": [
    {
     "name": "stdout",
     "output_type": "stream",
     "text": [
      "/home/jaeheonshim/music-vibes\n"
     ]
    }
   ],
   "source": [
    "%cd /home/jaeheonshim/music-vibes"
   ]
  },
  {
   "cell_type": "code",
   "execution_count": null,
   "id": "118f98c5",
   "metadata": {},
   "outputs": [],
   "source": [
    "import torch\n",
    "import numpy as np\n",
    "import pandas as pd\n",
    "from torch import nn\n",
    "from torch.optim.lr_scheduler import CosineAnnealingLR\n",
    "import torch.nn.functional as F\n",
    "from torch.utils.data import random_split, DataLoader, Subset\n",
    "import librosa\n",
    "from tqdm import tqdm\n",
    "from torchvggish import vggish_input\n",
    "\n",
    "from vibenet.dataset import FMAWaveformDataset\n",
    "from vibenet.models.teacher import PANNsMLP\n",
    "from vibenet import labels"
   ]
  },
  {
   "cell_type": "code",
   "execution_count": null,
   "id": "eeeb0ff0",
   "metadata": {},
   "outputs": [
    {
     "data": {
      "text/plain": [
       "<All keys matched successfully>"
      ]
     },
     "execution_count": 3,
     "metadata": {},
     "output_type": "execute_result"
    }
   ],
   "source": [
    "device = 'cpu'\n",
    "\n",
    "model = PANNsMLP()\n",
    "model = model.to(device)\n",
    "data = torch.load('checkpoints/pretrained_PANN.pt')\n",
    "model.load_state_dict(data['state_dict'])"
   ]
  },
  {
   "cell_type": "code",
   "execution_count": null,
   "id": "53f306df",
   "metadata": {},
   "outputs": [],
   "source": [
    "def eval(y):\n",
    "    model.eval()\n",
    "\n",
    "    with torch.inference_mode():\n",
    "        pred = model(torch.tensor(y).unsqueeze(0).to(device))\n",
    "        \n",
    "    pred['acousticness'] = F.sigmoid(pred['acousticness'])\n",
    "    pred['instrumentalness'] = F.sigmoid(pred['instrumentalness'])\n",
    "    pred['liveness'] = F.sigmoid(pred['liveness'])\n",
    "    pred['speechiness'] = torch.clamp(pred['speechiness'], 0, 1)\n",
    "    pred['danceability'] = torch.clamp(pred['danceability'], 0, 1)\n",
    "    pred['energy'] = torch.clamp(pred['energy'], 0, 1)\n",
    "    pred['valence'] = torch.clamp(pred['valence'], 0, 1)\n",
    "\n",
    "    return pred"
   ]
  },
  {
   "cell_type": "code",
   "execution_count": null,
   "id": "3988bddd",
   "metadata": {},
   "outputs": [
    {
     "name": "stdout",
     "output_type": "stream",
     "text": [
      "acousticness        0.47241440415382385\n",
      "danceability        0.5090346336364746\n",
      "energy              0.7003660202026367\n",
      "instrumentalness    0.19107572734355927\n",
      "liveness            0.19258780777454376\n",
      "speechiness         0.5276971459388733\n",
      "valence             0.5537452697753906\n"
     ]
    }
   ],
   "source": [
    "y, sr = librosa.load(\"16 Imagine Dragons - Believer.mp3\", sr=32000)\n",
    "\n",
    "pred = eval(y)\n",
    "\n",
    "for i, label in enumerate(labels):\n",
    "    print(f\"{label:<20}{pred[label].item()}\")"
   ]
  }
 ],
 "metadata": {
  "kernelspec": {
   "display_name": "venv",
   "language": "python",
   "name": "python3"
  },
  "language_info": {
   "codemirror_mode": {
    "name": "ipython",
    "version": 3
   },
   "file_extension": ".py",
   "mimetype": "text/x-python",
   "name": "python",
   "nbconvert_exporter": "python",
   "pygments_lexer": "ipython3",
   "version": "3.11.13"
  }
 },
 "nbformat": 4,
 "nbformat_minor": 5
}
